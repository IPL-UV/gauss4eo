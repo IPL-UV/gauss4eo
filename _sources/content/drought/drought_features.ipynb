{
 "cells": [
  {
   "cell_type": "markdown",
   "id": "fresh-miracle",
   "metadata": {},
   "source": [
    "# Drought Features\n",
    "\n",
    "\n",
    "**Steps**:\n",
    "\n",
    "1. Load CONUS dataset (5D, 14D temporal resolution)\n",
    "2. Subset Area of Interest (AOI)\n",
    "3. Interpolate the NANs\n",
    "4. Smooth the Signal\n",
    "5. Calculate the anomalies (remove the climatology)\n"
   ]
  }
 ],
 "metadata": {
  "kernelspec": {
   "display_name": "Python [conda env:.conda-isp_data]",
   "language": "python",
   "name": "conda-env-.conda-isp_data-py"
  },
  "language_info": {
   "codemirror_mode": {
    "name": "ipython",
    "version": 3
   },
   "file_extension": ".py",
   "mimetype": "text/x-python",
   "name": "python",
   "nbconvert_exporter": "python",
   "pygments_lexer": "ipython3",
   "version": "3.9.2"
  }
 },
 "nbformat": 4,
 "nbformat_minor": 5
}
