{
 "cells": [
  {
   "cell_type": "markdown",
   "id": "legislative-watson",
   "metadata": {},
   "source": [
    "# Demo Similarity\n",
    "\n",
    "**Base Model**\n",
    "\n",
    "* era5\n",
    "\n",
    "**CMIP5 Models**:\n",
    "* \"inmcm4\",\n",
    "* \"access1_0\",\n",
    "* \"bcc_csm1_1\",\n",
    "* \"bcc_csm1_1_m\",\n",
    "* \"bnu_esm\",\n",
    "* \"cnrm_cm5\",\n",
    "* \"ec_earth\",\n",
    "* \"fgoals_s2\",\n",
    "* \"ipsl_cm5b_lr\",\n",
    "* \"mpi_esm_lr\",\n",
    "* \"mpi_esm_mr\""
   ]
  },
  {
   "cell_type": "code",
   "execution_count": 1,
   "id": "neural-presentation",
   "metadata": {},
   "outputs": [],
   "source": [
    "import sys, os\n",
    "from pyprojroot import here\n",
    "\n",
    "# spyder up to find the root\n",
    "isp_root = \"/home/emmanuel/code/isp_data\"\n",
    "root = here(project_files=[\".here\"])\n",
    "\n",
    "# append to path\n",
    "sys.path.append(str(root))\n",
    "sys.path.append(str(isp_root))\n",
    "\n",
    "from pathlib import Path\n",
    "\n",
    "#\n",
    "import xarray as xr\n",
    "from pprint import pprint\n",
    "import cftime\n",
    "import xesmf as xe\n",
    "from isp_data.esdc.temporal import convert_to_360day_monthly\n",
    "from src.models.univariate import pearson\n",
    "from src.models.kernels import rv_coefficient, cka_coefficient\n",
    "import tqdm\n",
    "import numpy as np\n",
    "import pandas as pd\n",
    "import itertools\n",
    "\n",
    "# MATPLOTLIB Settings\n",
    "import matplotlib as mpl\n",
    "import matplotlib.pyplot as plt\n",
    "%matplotlib inline\n",
    "%config InlineBackend.figure_format = 'retina'\n",
    "\n",
    "# SEABORN SETTINGS\n",
    "import seaborn as sns\n",
    "sns.set_context(context='talk',font_scale=0.7)\n",
    "\n",
    "%load_ext autoreload\n",
    "%autoreload 2"
   ]
  },
  {
   "cell_type": "markdown",
   "id": "dense-blink",
   "metadata": {},
   "source": [
    "## Load Data"
   ]
  },
  {
   "cell_type": "code",
   "execution_count": 2,
   "id": "indian-expression",
   "metadata": {},
   "outputs": [],
   "source": [
    "ERA5_DIR = \"/media/disk/databases/CLIMATE/CLIMATE_DATA_STORE/STAGING/SIM4CLIM/ERA5/REANALYSIS/ZARR\"\n",
    "CMIP5_DIR = \"/media/disk/databases/CLIMATE/CLIMATE_DATA_STORE/STAGING/SIM4CLIM/CMIP5/RCP8_5/NETCDF\"\n",
    "VARIABLE = \"mean_sea_level_pressure\"\n",
    "TIME_SLICE = slice(\"2020\", \"2020\")\n",
    "BASE_GRID_MODEL = \"ipsl_cm5b_lr\"\n"
   ]
  },
  {
   "cell_type": "code",
   "execution_count": 3,
   "id": "recent-discovery",
   "metadata": {},
   "outputs": [],
   "source": [
    "d_ = xr.open_zarr(\"/media/disk/databases/CLIMATE/CLIMATE_DATA_STORE/STAGING/SIM4CLIM/ERA5/REANALYSIS/ZARR/mean_sea_level_pressure/era5_reanalysis.nc\")"
   ]
  },
  {
   "cell_type": "code",
   "execution_count": 4,
   "id": "helpful-empire",
   "metadata": {},
   "outputs": [
    {
     "name": "stdout",
     "output_type": "stream",
     "text": [
      "mean_sea_level_pressure\n"
     ]
    }
   ],
   "source": [
    "!ls $ERA5_DIR"
   ]
  },
  {
   "cell_type": "code",
   "execution_count": 5,
   "id": "perfect-plaintiff",
   "metadata": {},
   "outputs": [],
   "source": [
    "\n",
    "cmip_glob = Path(CMIP5_DIR).joinpath(VARIABLE).glob(f\"*.nc\")\n",
    "era5_glob = Path(ERA5_DIR).joinpath(VARIABLE).glob(f\"*.nc\")\n",
    "nc_files = [str(x) for x in cmip_glob if x.is_dir()]\n",
    "nc_files = nc_files + [str(x) for x in era5_glob if x.is_dir()]"
   ]
  },
  {
   "cell_type": "code",
   "execution_count": 6,
   "id": "social-individual",
   "metadata": {},
   "outputs": [
    {
     "data": {
      "text/plain": [
       "['/media/disk/databases/CLIMATE/CLIMATE_DATA_STORE/STAGING/SIM4CLIM/CMIP5/RCP8_5/NETCDF/mean_sea_level_pressure/giss_e2_h_cc_rcp8_5.nc',\n",
       " '/media/disk/databases/CLIMATE/CLIMATE_DATA_STORE/STAGING/SIM4CLIM/CMIP5/RCP8_5/NETCDF/mean_sea_level_pressure/mpi_esm_lr_rcp8_5.nc',\n",
       " '/media/disk/databases/CLIMATE/CLIMATE_DATA_STORE/STAGING/SIM4CLIM/CMIP5/RCP8_5/NETCDF/mean_sea_level_pressure/bnu_esm_rcp8_5.nc',\n",
       " '/media/disk/databases/CLIMATE/CLIMATE_DATA_STORE/STAGING/SIM4CLIM/CMIP5/RCP8_5/NETCDF/mean_sea_level_pressure/access1_0_rcp8_5.nc',\n",
       " '/media/disk/databases/CLIMATE/CLIMATE_DATA_STORE/STAGING/SIM4CLIM/CMIP5/RCP8_5/NETCDF/mean_sea_level_pressure/access1_3_rcp8_5.nc',\n",
       " '/media/disk/databases/CLIMATE/CLIMATE_DATA_STORE/STAGING/SIM4CLIM/CMIP5/RCP8_5/NETCDF/mean_sea_level_pressure/noresm1_m_rcp8_5.nc',\n",
       " '/media/disk/databases/CLIMATE/CLIMATE_DATA_STORE/STAGING/SIM4CLIM/CMIP5/RCP8_5/NETCDF/mean_sea_level_pressure/mpi_esm_mr_rcp8_5.nc',\n",
       " '/media/disk/databases/CLIMATE/CLIMATE_DATA_STORE/STAGING/SIM4CLIM/CMIP5/RCP8_5/NETCDF/mean_sea_level_pressure/ipsl_cm5b_lr_rcp8_5.nc',\n",
       " '/media/disk/databases/CLIMATE/CLIMATE_DATA_STORE/STAGING/SIM4CLIM/CMIP5/RCP8_5/NETCDF/mean_sea_level_pressure/ipsl_cm5a_mr_rcp8_5.nc',\n",
       " '/media/disk/databases/CLIMATE/CLIMATE_DATA_STORE/STAGING/SIM4CLIM/CMIP5/RCP8_5/NETCDF/mean_sea_level_pressure/inmcm4_rcp8_5.nc',\n",
       " '/media/disk/databases/CLIMATE/CLIMATE_DATA_STORE/STAGING/SIM4CLIM/CMIP5/RCP8_5/NETCDF/mean_sea_level_pressure/fio_esm_rcp8_5.nc',\n",
       " '/media/disk/databases/CLIMATE/CLIMATE_DATA_STORE/STAGING/SIM4CLIM/CMIP5/RCP8_5/NETCDF/mean_sea_level_pressure/ipsl_cm5a_lr_rcp8_5.nc',\n",
       " '/media/disk/databases/CLIMATE/CLIMATE_DATA_STORE/STAGING/SIM4CLIM/ERA5/REANALYSIS/ZARR/mean_sea_level_pressure/era5_reanalysis.nc']"
      ]
     },
     "execution_count": 6,
     "metadata": {},
     "output_type": "execute_result"
    }
   ],
   "source": [
    "nc_files"
   ]
  },
  {
   "cell_type": "code",
   "execution_count": 7,
   "id": "eligible-bulgarian",
   "metadata": {},
   "outputs": [],
   "source": [
    "ds = {}\n",
    "for ifile in nc_files:\n",
    "    # manually set the encoding to use cftime\n",
    "\n",
    "    i_ds = xr.open_zarr(ifile, decode_times=True, use_cftime=True)\n",
    "\n",
    "    # assign a new coordinate name\n",
    "    try:\n",
    "        model_id = i_ds.model_id.lower().replace(\"-\", \"_\")\n",
    "\n",
    "    except:\n",
    "        model_id = \"era5\"\n",
    "        i_ds = i_ds.rename({\"msl\": \"psl\", \"latitude\": \"lat\", \"longitude\": \"lon\"})\n",
    "    i_ds = i_ds.assign_coords({\"model_id\": model_id})\n",
    "    # create the same calendar\n",
    "    i_ds = convert_to_360day_monthly(i_ds, False)\n",
    "\n",
    "    # move attributes to new coordinate\n",
    "    i_ds.model_id.attrs = i_ds.attrs\n",
    "    i_ds.attrs = {}\n",
    "\n",
    "    ds[model_id] = i_ds"
   ]
  },
  {
   "cell_type": "code",
   "execution_count": 8,
   "id": "silver-madrid",
   "metadata": {},
   "outputs": [
    {
     "name": "stderr",
     "output_type": "stream",
     "text": [
      "Model: era5: 100%|██████████| 13/13 [00:00<00:00, 163.27it/s]\n"
     ]
    }
   ],
   "source": [
    "# =====================\n",
    "# Select Time Slice\n",
    "# =====================\n",
    "with tqdm.tqdm(ds.items()) as pbar:\n",
    "    for imodel_id, ids in pbar:\n",
    "        \n",
    "        pbar.set_description(f\"Model: {model_id}\")\n",
    "\n",
    "        ds[imodel_id] = ds[imodel_id].sel(time=TIME_SLICE)\n",
    "\n",
    "n_time = ds[imodel_id][\"time\"].values.shape[0]"
   ]
  },
  {
   "cell_type": "code",
   "execution_count": 9,
   "id": "biological-wireless",
   "metadata": {},
   "outputs": [
    {
     "name": "stderr",
     "output_type": "stream",
     "text": [
      "/home/emmanuel/.conda/envs/isp_data/lib/python3.9/site-packages/xesmf/frontend.py:464: FutureWarning: ``output_sizes`` should be given in the ``dask_gufunc_kwargs`` parameter. It will be removed as direct parameter in a future version.\n",
      "  dr_out = xr.apply_ufunc(\n",
      "/home/emmanuel/.conda/envs/isp_data/lib/python3.9/site-packages/xesmf/frontend.py:464: FutureWarning: ``output_sizes`` should be given in the ``dask_gufunc_kwargs`` parameter. It will be removed as direct parameter in a future version.\n",
      "  dr_out = xr.apply_ufunc(\n",
      "/home/emmanuel/.conda/envs/isp_data/lib/python3.9/site-packages/xesmf/frontend.py:464: FutureWarning: ``output_sizes`` should be given in the ``dask_gufunc_kwargs`` parameter. It will be removed as direct parameter in a future version.\n",
      "  dr_out = xr.apply_ufunc(\n",
      "/home/emmanuel/.conda/envs/isp_data/lib/python3.9/site-packages/xesmf/frontend.py:464: FutureWarning: ``output_sizes`` should be given in the ``dask_gufunc_kwargs`` parameter. It will be removed as direct parameter in a future version.\n",
      "  dr_out = xr.apply_ufunc(\n",
      "/home/emmanuel/.conda/envs/isp_data/lib/python3.9/site-packages/xesmf/frontend.py:464: FutureWarning: ``output_sizes`` should be given in the ``dask_gufunc_kwargs`` parameter. It will be removed as direct parameter in a future version.\n",
      "  dr_out = xr.apply_ufunc(\n",
      "/home/emmanuel/.conda/envs/isp_data/lib/python3.9/site-packages/xesmf/frontend.py:464: FutureWarning: ``output_sizes`` should be given in the ``dask_gufunc_kwargs`` parameter. It will be removed as direct parameter in a future version.\n",
      "  dr_out = xr.apply_ufunc(\n",
      "/home/emmanuel/.conda/envs/isp_data/lib/python3.9/site-packages/xesmf/frontend.py:464: FutureWarning: ``output_sizes`` should be given in the ``dask_gufunc_kwargs`` parameter. It will be removed as direct parameter in a future version.\n",
      "  dr_out = xr.apply_ufunc(\n",
      "/home/emmanuel/.conda/envs/isp_data/lib/python3.9/site-packages/xesmf/frontend.py:464: FutureWarning: ``output_sizes`` should be given in the ``dask_gufunc_kwargs`` parameter. It will be removed as direct parameter in a future version.\n",
      "  dr_out = xr.apply_ufunc(\n",
      "/home/emmanuel/.conda/envs/isp_data/lib/python3.9/site-packages/xesmf/frontend.py:464: FutureWarning: ``output_sizes`` should be given in the ``dask_gufunc_kwargs`` parameter. It will be removed as direct parameter in a future version.\n",
      "  dr_out = xr.apply_ufunc(\n",
      "/home/emmanuel/.conda/envs/isp_data/lib/python3.9/site-packages/xesmf/frontend.py:464: FutureWarning: ``output_sizes`` should be given in the ``dask_gufunc_kwargs`` parameter. It will be removed as direct parameter in a future version.\n",
      "  dr_out = xr.apply_ufunc(\n",
      "/home/emmanuel/.conda/envs/isp_data/lib/python3.9/site-packages/xesmf/frontend.py:464: FutureWarning: ``output_sizes`` should be given in the ``dask_gufunc_kwargs`` parameter. It will be removed as direct parameter in a future version.\n",
      "  dr_out = xr.apply_ufunc(\n",
      "/home/emmanuel/.conda/envs/isp_data/lib/python3.9/site-packages/xesmf/frontend.py:464: FutureWarning: ``output_sizes`` should be given in the ``dask_gufunc_kwargs`` parameter. It will be removed as direct parameter in a future version.\n",
      "  dr_out = xr.apply_ufunc(\n",
      "/home/emmanuel/.conda/envs/isp_data/lib/python3.9/site-packages/xesmf/frontend.py:464: FutureWarning: ``output_sizes`` should be given in the ``dask_gufunc_kwargs`` parameter. It will be removed as direct parameter in a future version.\n",
      "  dr_out = xr.apply_ufunc(\n"
     ]
    }
   ],
   "source": [
    "# =====================\n",
    "# REGRID\n",
    "# =====================\n",
    "ds_out = xr.Dataset(\n",
    "    {\n",
    "        \"lat\": ([\"lat\"], ds[BASE_GRID_MODEL].lat),\n",
    "        \"lon\": ([\"lon\"], ds[BASE_GRID_MODEL].lon),\n",
    "    }\n",
    ")\n",
    "\n",
    "n_lat = ds_out.coords[\"lat\"].values.shape[0]\n",
    "n_lon = ds_out.coords[\"lon\"].values.shape[0]\n",
    "\n",
    "final_ds = []\n",
    "\n",
    "for imodel_id, ids in ds.items():\n",
    "#     if imodel_id == \"ipsl_cm5b_lr\":\n",
    "#         t = ids.psl\n",
    "#         t.attrs = ids.attrs\n",
    "#         final_ds.append(t)\n",
    "#         continue\n",
    "\n",
    "    regridder = xe.Regridder(ids, ds_out, \"nearest_s2d\")\n",
    "    t = regridder(ids[\"psl\"].compute())\n",
    "    t.attrs = ids.attrs\n",
    "    final_ds.append(t)\n",
    "\n",
    "final_ds = xr.concat(final_ds, dim=\"model_id\").reset_coords()"
   ]
  },
  {
   "cell_type": "code",
   "execution_count": 10,
   "id": "amended-suffering",
   "metadata": {},
   "outputs": [
    {
     "data": {
      "text/plain": [
       "array(['giss_e2_h_cc', 'mpi_esm_lr', 'bnu_esm', 'access1_0', 'access1_3',\n",
       "       'noresm1_m', 'mpi_esm_mr', 'ipsl_cm5b_lr', 'ipsl_cm5a_mr',\n",
       "       'inmcm4', 'fio_esm', 'ipsl_cm5a_lr', 'era5'], dtype='<U12')"
      ]
     },
     "execution_count": 10,
     "metadata": {},
     "output_type": "execute_result"
    }
   ],
   "source": [
    "final_ds.coords[\"model_id\"].values"
   ]
  },
  {
   "cell_type": "code",
   "execution_count": 11,
   "id": "according-malpractice",
   "metadata": {},
   "outputs": [],
   "source": [
    "from src.models.km.hsic import cka_coefficient\n",
    "from src.models.km.rv import rv_coefficient\n",
    "from src.models.km.rhsic import cka_coefficient_nystroem, cka_coefficient_rff\n",
    "from src.models.univariate import pearson, pearson_dim, univariate_stats\n",
    "from src.models.multivariate import multivariate_stats\n",
    "import itertools"
   ]
  },
  {
   "cell_type": "code",
   "execution_count": 84,
   "id": "incident-middle",
   "metadata": {},
   "outputs": [
    {
     "name": "stderr",
     "output_type": "stream",
     "text": [
      "/home/emmanuel/projects/rbig4eo/src/models/information/knn.py:28: RuntimeWarning: divide by zero encountered in true_divide\n",
      "  + np.log(vol)\n"
     ]
    },
    {
     "data": {
      "text/plain": [
       "-inf"
      ]
     },
     "execution_count": 84,
     "metadata": {},
     "output_type": "execute_result"
    }
   ],
   "source": [
    "knn_entropy(np.hstack([X, Y]), 5, n_jobs=-1)"
   ]
  },
  {
   "cell_type": "code",
   "execution_count": 85,
   "id": "alert-affect",
   "metadata": {},
   "outputs": [
    {
     "data": {
      "text/plain": [
       "((9216, 24), (18432, 12))"
      ]
     },
     "execution_count": 85,
     "metadata": {},
     "output_type": "execute_result"
    }
   ],
   "source": [
    "np.hstack([X, Y]).shape, np.vstack([X, Y]).shape"
   ]
  },
  {
   "cell_type": "code",
   "execution_count": 45,
   "id": "senior-municipality",
   "metadata": {},
   "outputs": [
    {
     "data": {
      "text/plain": [
       "(1000, 1)"
      ]
     },
     "execution_count": 45,
     "metadata": {},
     "output_type": "execute_result"
    }
   ],
   "source": [
    "X_ = np.ones((100, 10))\n",
    "X_.ravel()[:, None].shape"
   ]
  },
  {
   "cell_type": "code",
   "execution_count": 80,
   "id": "crude-bones",
   "metadata": {},
   "outputs": [
    {
     "data": {
      "text/plain": [
       "63.553461176557825"
      ]
     },
     "execution_count": 80,
     "metadata": {},
     "output_type": "execute_result"
    }
   ],
   "source": [
    "knn_entropy(np.vstack([X, Y]), 2, n_jobs=-1)"
   ]
  },
  {
   "cell_type": "code",
   "execution_count": 15,
   "id": "anticipated-china",
   "metadata": {},
   "outputs": [],
   "source": [
    "EXPERIMENT = \"multivariate\""
   ]
  },
  {
   "cell_type": "code",
   "execution_count": 81,
   "id": "round-drive",
   "metadata": {},
   "outputs": [
    {
     "data": {
      "text/plain": [
       "((9216, 12), (9216, 12))"
      ]
     },
     "execution_count": 81,
     "metadata": {},
     "output_type": "execute_result"
    }
   ],
   "source": [
    "x.shape, y.shape"
   ]
  },
  {
   "cell_type": "code",
   "execution_count": 12,
   "id": "educational-ottawa",
   "metadata": {},
   "outputs": [],
   "source": [
    "from src.models.information.mutual_information import RBIGEstimator"
   ]
  },
  {
   "cell_type": "code",
   "execution_count": 13,
   "id": "ranking-button",
   "metadata": {},
   "outputs": [
    {
     "ename": "NameError",
     "evalue": "name 'x' is not defined",
     "output_type": "error",
     "traceback": [
      "\u001b[0;31m---------------------------------------------------------------------------\u001b[0m",
      "\u001b[0;31mNameError\u001b[0m                                 Traceback (most recent call last)",
      "\u001b[0;32m<timed exec>\u001b[0m in \u001b[0;36m<module>\u001b[0;34m\u001b[0m\n",
      "\u001b[0;31mNameError\u001b[0m: name 'x' is not defined"
     ]
    }
   ],
   "source": []
  },
  {
   "cell_type": "code",
   "execution_count": null,
   "id": "mexican-hayes",
   "metadata": {},
   "outputs": [],
   "source": []
  },
  {
   "cell_type": "code",
   "execution_count": 16,
   "id": "diverse-president",
   "metadata": {},
   "outputs": [
    {
     "name": "stderr",
     "output_type": "stream",
     "text": [
      "Calculating Multivariate Stats...:   0%|          | 0/78 [00:17<?, ?it/s]         \n"
     ]
    }
   ],
   "source": [
    "# =====================\n",
    "# PEARSON CORRELATION\n",
    "# =====================\n",
    "\n",
    "import pandas as pd\n",
    "\n",
    "\n",
    "from scipy.stats import pearsonr\n",
    "\n",
    "# get all model IDS\n",
    "\n",
    "\n",
    "import tqdm\n",
    "import numpy as np\n",
    "\n",
    "\n",
    "all_stats = pd.DataFrame()\n",
    "model_ids = final_ds.coords[\"model_id\"].values\n",
    "sym_pairs = [pair for pair in itertools.combinations(model_ids, 2)]\n",
    "\n",
    "with tqdm.tqdm(sym_pairs) as pbar:\n",
    "\n",
    "    for i, imodel_pair in enumerate(pbar):\n",
    "        \n",
    "        imodel_stats = {\"model_0\": imodel_pair[0], \"model_1\": imodel_pair[1]}\n",
    "\n",
    "        pbar.set_description(f\"Model 1: {imodel_pair[0]}, Model 2: {imodel_pair[1]}\")\n",
    "\n",
    "        # select model\n",
    "        ids = final_ds.sel(model_id=[imodel_pair[0], imodel_pair[1]]).psl.values\n",
    "\n",
    "\n",
    "        # calculate pearson correlation\n",
    "#         pbar.set_description(f\"Calculating Correlation...\")\n",
    "        \n",
    "#         x = np.reshape(ids[0], (n_lat * n_lon * n_time))\n",
    "#         y = np.reshape(ids[1], (n_lat * n_lon * n_time))\n",
    "        \n",
    "        if EXPERIMENT == \"univariate\":\n",
    "\n",
    "            # calculate pearson correlation\n",
    "            pbar.set_description(f\"Calculating Univariate Stats...\")\n",
    "\n",
    "            x = np.reshape(ids[0], (n_lat * n_lon * n_time))\n",
    "            y = np.reshape(ids[1], (n_lat * n_lon * n_time))\n",
    "\n",
    "            uni_stats = univariate_stats(x, y)\n",
    "            \n",
    "            imodel_stats = {**imodel_stats, **uni_stats}\n",
    "            \n",
    "        elif EXPERIMENT == \"multivariate\":\n",
    "\n",
    "            # calculate pearson correlation\n",
    "            pbar.set_description(f\"Calculating Multivariate Stats...\")\n",
    "\n",
    "            x = np.reshape(ids[0], (n_lat * n_lon, n_time))\n",
    "            y = np.reshape(ids[1], (n_lat * n_lon, n_time))\n",
    "\n",
    "            multi_stats = multivariate_stats(x, y)\n",
    "            \n",
    "            imodel_stats = {**imodel_stats, **multi_stats}\n",
    "            \n",
    "#         prs_r = pearson(x, y)\n",
    "        \n",
    "#         imodel_stats = {**imodel_stats, **prs_r}\n",
    "        \n",
    "        \n",
    "#         X = np.reshape(ids[0], (n_lat * n_lon, n_time))\n",
    "#         Y = np.reshape(ids[1], (n_lat * n_lon, n_time))\n",
    "        \n",
    "#         # calculate pearson correlation\n",
    "#         pbar.set_description(f\"Calculating Pearson (per dim)...\")\n",
    "\n",
    "#         prs_d_r = pearson_dim(X, Y)\n",
    "        \n",
    "#         imodel_stats = {**imodel_stats, **prs_d_r}\n",
    "        \n",
    "#         # calculate pearson correlation\n",
    "#         pbar.set_description(f\"Calculating RV Coeff ...\")\n",
    "        \n",
    "#         X = np.reshape(ids[0], (n_lat * n_lon, n_time))\n",
    "#         Y = np.reshape(ids[1], (n_lat * n_lon, n_time))\n",
    "#         rv = rv_coefficient(X, Y)\n",
    "        \n",
    "#         imodel_stats = {**imodel_stats, **rv}\n",
    "        \n",
    "        \n",
    "#         # calculate pearson correlation\n",
    "#         pbar.set_description(f\"Calculating nHSIC Coeff...\")\n",
    "        \n",
    "#         nhsic = cka_coefficient(X, Y)\n",
    "        \n",
    "#         imodel_stats = {**imodel_stats, **nhsic}\n",
    "                \n",
    "#         # calculate cka (nystrom)\n",
    "#         pbar.set_description(f\"Calculating rand nHSIC (nystroem) Coeff...\")\n",
    "        \n",
    "#         rhsic_nys = cka_coefficient_nystroem(X, Y, )\n",
    "        \n",
    "#         imodel_stats = {**imodel_stats, **rhsic_nys}\n",
    "        \n",
    "#         # calculate cka (rff)\n",
    "#         pbar.set_description(f\"Calculating rand nHSIC (rff) Coeff...\")\n",
    "        \n",
    "#         rhsic_rff = cka_coefficient_rff(X, Y)\n",
    "        \n",
    "#         imodel_stats = {**imodel_stats, **rhsic_rff}\n",
    "        \n",
    "        \n",
    "        all_stats = pd.concat([all_stats, pd.DataFrame(imodel_stats, index=[i])], axis=0)\n",
    "        break"
   ]
  },
  {
   "cell_type": "code",
   "execution_count": null,
   "id": "permanent-height",
   "metadata": {},
   "outputs": [],
   "source": [
    "%%time\n",
    "mi_clf = RBIGEstimator().fit(x, y)"
   ]
  },
  {
   "cell_type": "code",
   "execution_count": null,
   "id": "younger-action",
   "metadata": {},
   "outputs": [],
   "source": []
  },
  {
   "cell_type": "code",
   "execution_count": 68,
   "id": "simple-capture",
   "metadata": {},
   "outputs": [
    {
     "data": {
      "text/html": [
       "<div>\n",
       "<style scoped>\n",
       "    .dataframe tbody tr th:only-of-type {\n",
       "        vertical-align: middle;\n",
       "    }\n",
       "\n",
       "    .dataframe tbody tr th {\n",
       "        vertical-align: top;\n",
       "    }\n",
       "\n",
       "    .dataframe thead th {\n",
       "        text-align: right;\n",
       "    }\n",
       "</style>\n",
       "<table border=\"1\" class=\"dataframe\">\n",
       "  <thead>\n",
       "    <tr style=\"text-align: right;\">\n",
       "      <th></th>\n",
       "      <th>model_0</th>\n",
       "      <th>model_1</th>\n",
       "      <th>pearson_d</th>\n",
       "      <th>pearson__dtime</th>\n",
       "      <th>x_std_d</th>\n",
       "      <th>y_std_d</th>\n",
       "      <th>rv_coef</th>\n",
       "      <th>rv_xy_norm</th>\n",
       "      <th>rv_x_norm</th>\n",
       "      <th>rv_y_norm</th>\n",
       "      <th>...</th>\n",
       "      <th>rcka_coeff_nys</th>\n",
       "      <th>rcka_xy_norm_nys</th>\n",
       "      <th>rcka_x_norm_nys</th>\n",
       "      <th>rcka_y_norm_nys</th>\n",
       "      <th>rcka_nys_time</th>\n",
       "      <th>rcka_coeff_rff</th>\n",
       "      <th>rcka_xy_norm_rff</th>\n",
       "      <th>rcka_x_norm_rff</th>\n",
       "      <th>rcka_y_norm_rff</th>\n",
       "      <th>rcka_time_rff</th>\n",
       "    </tr>\n",
       "  </thead>\n",
       "  <tbody>\n",
       "    <tr>\n",
       "      <th>0</th>\n",
       "      <td>giss_e2_h_cc</td>\n",
       "      <td>mpi_esm_lr</td>\n",
       "      <td>0.797626</td>\n",
       "      <td>0.010391</td>\n",
       "      <td>981.968832</td>\n",
       "      <td>966.831601</td>\n",
       "      <td>0.664706</td>\n",
       "      <td>7.746479e+13</td>\n",
       "      <td>1.096883e+07</td>\n",
       "      <td>1.062465e+07</td>\n",
       "      <td>...</td>\n",
       "      <td>0.432565</td>\n",
       "      <td>0.028782</td>\n",
       "      <td>0.257932</td>\n",
       "      <td>0.257969</td>\n",
       "      <td>0.390771</td>\n",
       "      <td>0.431984</td>\n",
       "      <td>0.031703</td>\n",
       "      <td>0.246554</td>\n",
       "      <td>0.297657</td>\n",
       "      <td>0.450588</td>\n",
       "    </tr>\n",
       "  </tbody>\n",
       "</table>\n",
       "<p>1 rows × 26 columns</p>\n",
       "</div>"
      ],
      "text/plain": [
       "        model_0     model_1  pearson_d  pearson__dtime     x_std_d  \\\n",
       "0  giss_e2_h_cc  mpi_esm_lr   0.797626        0.010391  981.968832   \n",
       "\n",
       "      y_std_d   rv_coef    rv_xy_norm     rv_x_norm     rv_y_norm  ...  \\\n",
       "0  966.831601  0.664706  7.746479e+13  1.096883e+07  1.062465e+07  ...   \n",
       "\n",
       "   rcka_coeff_nys  rcka_xy_norm_nys  rcka_x_norm_nys  rcka_y_norm_nys  \\\n",
       "0        0.432565          0.028782         0.257932         0.257969   \n",
       "\n",
       "   rcka_nys_time  rcka_coeff_rff  rcka_xy_norm_rff  rcka_x_norm_rff  \\\n",
       "0       0.390771        0.431984          0.031703         0.246554   \n",
       "\n",
       "   rcka_y_norm_rff  rcka_time_rff  \n",
       "0         0.297657       0.450588  \n",
       "\n",
       "[1 rows x 26 columns]"
      ]
     },
     "execution_count": 68,
     "metadata": {},
     "output_type": "execute_result"
    }
   ],
   "source": [
    "all_stats"
   ]
  },
  {
   "cell_type": "code",
   "execution_count": 69,
   "id": "leading-peeing",
   "metadata": {},
   "outputs": [],
   "source": [
    "from src.visualization.climate.utils import get_pivot_df"
   ]
  },
  {
   "cell_type": "code",
   "execution_count": 71,
   "id": "metric-shareware",
   "metadata": {},
   "outputs": [
    {
     "data": {
      "text/html": [
       "<div>\n",
       "<style scoped>\n",
       "    .dataframe tbody tr th:only-of-type {\n",
       "        vertical-align: middle;\n",
       "    }\n",
       "\n",
       "    .dataframe tbody tr th {\n",
       "        vertical-align: top;\n",
       "    }\n",
       "\n",
       "    .dataframe thead th {\n",
       "        text-align: right;\n",
       "    }\n",
       "</style>\n",
       "<table border=\"1\" class=\"dataframe\">\n",
       "  <thead>\n",
       "    <tr style=\"text-align: right;\">\n",
       "      <th>model_1</th>\n",
       "      <th>giss_e2_h_cc</th>\n",
       "      <th>mpi_esm_lr</th>\n",
       "    </tr>\n",
       "    <tr>\n",
       "      <th>model_0</th>\n",
       "      <th></th>\n",
       "      <th></th>\n",
       "    </tr>\n",
       "  </thead>\n",
       "  <tbody>\n",
       "    <tr>\n",
       "      <th>giss_e2_h_cc</th>\n",
       "      <td>NaN</td>\n",
       "      <td>0.797626</td>\n",
       "    </tr>\n",
       "    <tr>\n",
       "      <th>mpi_esm_lr</th>\n",
       "      <td>0.797626</td>\n",
       "      <td>NaN</td>\n",
       "    </tr>\n",
       "  </tbody>\n",
       "</table>\n",
       "</div>"
      ],
      "text/plain": [
       "model_1       giss_e2_h_cc  mpi_esm_lr\n",
       "model_0                               \n",
       "giss_e2_h_cc           NaN    0.797626\n",
       "mpi_esm_lr        0.797626         NaN"
      ]
     },
     "execution_count": 71,
     "metadata": {},
     "output_type": "execute_result"
    }
   ],
   "source": [
    "df_ = get_pivot_df(all_stats, \"pearson_d\")\n",
    "df_"
   ]
  },
  {
   "cell_type": "code",
   "execution_count": 72,
   "id": "afraid-graduation",
   "metadata": {},
   "outputs": [
    {
     "data": {
      "image/png": "[encoded data removed]",
      "text/plain": [
       "<Figure size 432x288 with 2 Axes>"
      ]
     },
     "metadata": {
      "image/png": {
       "height": 276,
       "width": 381
      },
      "needs_background": "light"
     },
     "output_type": "display_data"
    }
   ],
   "source": [
    "# t = all_stats[[\"model_0\", \"model_1\", \"pearson\"]]\n",
    "# t = pd.concat([t, t.rename(columns={\"model_0\": \"model_1\", \"model_1\": \"model_0\"})], axis=0).drop_duplicates()\n",
    "# t = t.pivot(\"model_0\", \"model_1\", \"pearson\")\n",
    "\n",
    "ax = sns.heatmap(df_, vmin=0, vmax=1.0, cmap='Reds_r')"
   ]
  },
  {
   "cell_type": "code",
   "execution_count": 36,
   "id": "geological-scheme",
   "metadata": {},
   "outputs": [
    {
     "data": {
      "image/png": "[encoded data removed]",
      "text/plain": [
       "<Figure size 432x288 with 2 Axes>"
      ]
     },
     "metadata": {
      "image/png": {
       "height": 339,
       "width": 443
      },
      "needs_background": "light"
     },
     "output_type": "display_data"
    }
   ],
   "source": [
    "t = all_stats[[\"model_0\", \"model_1\", \"rv_coef\"]]\n",
    "t = pd.concat([t, t.rename(columns={\"model_0\": \"model_1\", \"model_1\": \"model_0\"})], axis=0).drop_duplicates()\n",
    "t = t.pivot(\"model_0\", \"model_1\", \"rv_coef\")\n",
    "\n",
    "ax = sns.heatmap(t, vmin=0, vmax=1.0, cmap='Reds_r')"
   ]
  },
  {
   "cell_type": "code",
   "execution_count": 37,
   "id": "acute-marijuana",
   "metadata": {},
   "outputs": [
    {
     "data": {
      "image/png": "[encoded data removed]",
      "text/plain": [
       "<Figure size 432x288 with 2 Axes>"
      ]
     },
     "metadata": {
      "image/png": {
       "height": 339,
       "width": 443
      },
      "needs_background": "light"
     },
     "output_type": "display_data"
    }
   ],
   "source": [
    "t = all_stats[[\"model_0\", \"model_1\", \"cka_coeff\"]]\n",
    "t = pd.concat([t, t.rename(columns={\"model_0\": \"model_1\", \"model_1\": \"model_0\"})], axis=0).drop_duplicates()\n",
    "t = t.pivot(\"model_0\", \"model_1\", \"cka_coeff\")\n",
    "\n",
    "ax = sns.heatmap(t, vmin=0, vmax=1.0, cmap='Reds_r')"
   ]
  },
  {
   "cell_type": "code",
   "execution_count": 38,
   "id": "rapid-fancy",
   "metadata": {},
   "outputs": [
    {
     "data": {
      "image/png": "[encoded data removed]",
      "text/plain": [
       "<Figure size 432x288 with 2 Axes>"
      ]
     },
     "metadata": {
      "image/png": {
       "height": 339,
       "width": 443
      },
      "needs_background": "light"
     },
     "output_type": "display_data"
    }
   ],
   "source": [
    "t = all_stats[[\"model_0\", \"model_1\", \"rcka_coeff_nys\"]]\n",
    "t = pd.concat([t, t.rename(columns={\"model_0\": \"model_1\", \"model_1\": \"model_0\"})], axis=0).drop_duplicates()\n",
    "t = t.pivot(\"model_0\", \"model_1\", \"rcka_coeff_nys\")\n",
    "\n",
    "ax = sns.heatmap(t, vmin=0, vmax=1.0, cmap='Reds_r')"
   ]
  },
  {
   "cell_type": "code",
   "execution_count": 76,
   "id": "operating-fault",
   "metadata": {},
   "outputs": [],
   "source": [
    "import scipy.cluster.hierarchy as spc\n",
    "pdist = 1 - np.abs(df_.values)\n",
    "pdist = pdist[np.triu_indices_from(pdist, k=1)]\n",
    "linkage = spc.linkage(pdist, method=\"complete\", optimal_ordering=True)\n",
    "order = spc.leaves_list(linkage)\n",
    "\n",
    "name_corrections = {\n",
    "    \"access1_0\": \"ACCESS1.0\",\n",
    "    \"bnu_esm\": \"BNU ESM\",\n",
    "    \"era5\": \"ERA5\",\n",
    "    \"inmcm4\": \"INMCM4\",\n",
    "    \"ipsl_cm5b_lr\": \"IPSL-CM5B-LR\",\n",
    "    \"mpi_esm_lr\": \"MPI-ESM-LR\",\n",
    "    \"mpi_esm_mr\": \"MPI-ESM-MR\",\n",
    "}\n",
    "names = [i for i in name_corrections.values()]\n",
    "# def names(i):\n",
    "#     return name_corrections"
   ]
  },
  {
   "cell_type": "code",
   "execution_count": 80,
   "id": "forbidden-elevation",
   "metadata": {},
   "outputs": [
    {
     "data": {
      "image/png": "[encoded data removed]",
      "text/plain": [
       "<Figure size 432x288 with 1 Axes>"
      ]
     },
     "metadata": {
      "image/png": {
       "height": 255,
       "width": 417
      },
      "needs_background": "light"
     },
     "output_type": "display_data"
    }
   ],
   "source": [
    "fig, ax = plt.subplots()\n",
    "d = spc.dendrogram(\n",
    "        linkage,\n",
    "        above_threshold_color=\"k\",\n",
    "        color_threshold=0.4,\n",
    "        orientation=\"right\",\n",
    "        leaf_label_func=lambda i: names[i],\n",
    "        leaf_font_size=10,\n",
    "        leaf_rotation=0,\n",
    "    ax=ax\n",
    "    )\n",
    "plt.show()"
   ]
  },
  {
   "cell_type": "code",
   "execution_count": null,
   "id": "unnecessary-notebook",
   "metadata": {},
   "outputs": [],
   "source": [
    "all_pairs = [pair for pair in itertools.product(model_ids, model_ids)]\n",
    "\n",
    "grid_size =\n",
    "\n",
    "for im, jm in all_pairs"
   ]
  },
  {
   "cell_type": "code",
   "execution_count": null,
   "id": "short-provincial",
   "metadata": {},
   "outputs": [],
   "source": [
    "from src.models.univariate import univariate_stats, pearson\n",
    "from src.models.kernels import rv_coefficient, cka_coefficient"
   ]
  },
  {
   "cell_type": "code",
   "execution_count": 47,
   "id": "considered-mother",
   "metadata": {},
   "outputs": [
    {
     "data": {
      "text/plain": [
       "array(['inmcm4', 'bnu_esm', 'ipsl_cm5b_lr', 'mpi_esm_mr', 'access1_0',\n",
       "       'mpi_esm_lr', 'era5'], dtype='<U12')"
      ]
     },
     "execution_count": 47,
     "metadata": {},
     "output_type": "execute_result"
    }
   ],
   "source": [
    "model_ids"
   ]
  },
  {
   "cell_type": "code",
   "execution_count": 61,
   "id": "collect-poker",
   "metadata": {},
   "outputs": [
    {
     "data": {
      "text/plain": [
       "[('giss_e2_h_cc', 'giss_e2_h_cc'),\n",
       " ('giss_e2_h_cc', 'mpi_esm_lr'),\n",
       " ('giss_e2_h_cc', 'bnu_esm'),\n",
       " ('giss_e2_h_cc', 'access1_0'),\n",
       " ('giss_e2_h_cc', 'access1_3'),\n",
       " ('giss_e2_h_cc', 'noresm1_m'),\n",
       " ('giss_e2_h_cc', 'mpi_esm_mr'),\n",
       " ('giss_e2_h_cc', 'ipsl_cm5b_lr'),\n",
       " ('giss_e2_h_cc', 'ccsm4'),\n",
       " ('giss_e2_h_cc', 'ipsl_cm5a_mr'),\n",
       " ('giss_e2_h_cc', 'inmcm4'),\n",
       " ('giss_e2_h_cc', 'fio_esm'),\n",
       " ('giss_e2_h_cc', 'ipsl_cm5a_lr'),\n",
       " ('giss_e2_h_cc', 'era5'),\n",
       " ('mpi_esm_lr', 'giss_e2_h_cc'),\n",
       " ('mpi_esm_lr', 'mpi_esm_lr'),\n",
       " ('mpi_esm_lr', 'bnu_esm'),\n",
       " ('mpi_esm_lr', 'access1_0'),\n",
       " ('mpi_esm_lr', 'access1_3'),\n",
       " ('mpi_esm_lr', 'noresm1_m'),\n",
       " ('mpi_esm_lr', 'mpi_esm_mr'),\n",
       " ('mpi_esm_lr', 'ipsl_cm5b_lr'),\n",
       " ('mpi_esm_lr', 'ccsm4'),\n",
       " ('mpi_esm_lr', 'ipsl_cm5a_mr'),\n",
       " ('mpi_esm_lr', 'inmcm4'),\n",
       " ('mpi_esm_lr', 'fio_esm'),\n",
       " ('mpi_esm_lr', 'ipsl_cm5a_lr'),\n",
       " ('mpi_esm_lr', 'era5'),\n",
       " ('bnu_esm', 'giss_e2_h_cc'),\n",
       " ('bnu_esm', 'mpi_esm_lr'),\n",
       " ('bnu_esm', 'bnu_esm'),\n",
       " ('bnu_esm', 'access1_0'),\n",
       " ('bnu_esm', 'access1_3'),\n",
       " ('bnu_esm', 'noresm1_m'),\n",
       " ('bnu_esm', 'mpi_esm_mr'),\n",
       " ('bnu_esm', 'ipsl_cm5b_lr'),\n",
       " ('bnu_esm', 'ccsm4'),\n",
       " ('bnu_esm', 'ipsl_cm5a_mr'),\n",
       " ('bnu_esm', 'inmcm4'),\n",
       " ('bnu_esm', 'fio_esm'),\n",
       " ('bnu_esm', 'ipsl_cm5a_lr'),\n",
       " ('bnu_esm', 'era5'),\n",
       " ('access1_0', 'giss_e2_h_cc'),\n",
       " ('access1_0', 'mpi_esm_lr'),\n",
       " ('access1_0', 'bnu_esm'),\n",
       " ('access1_0', 'access1_0'),\n",
       " ('access1_0', 'access1_3'),\n",
       " ('access1_0', 'noresm1_m'),\n",
       " ('access1_0', 'mpi_esm_mr'),\n",
       " ('access1_0', 'ipsl_cm5b_lr'),\n",
       " ('access1_0', 'ccsm4'),\n",
       " ('access1_0', 'ipsl_cm5a_mr'),\n",
       " ('access1_0', 'inmcm4'),\n",
       " ('access1_0', 'fio_esm'),\n",
       " ('access1_0', 'ipsl_cm5a_lr'),\n",
       " ('access1_0', 'era5'),\n",
       " ('access1_3', 'giss_e2_h_cc'),\n",
       " ('access1_3', 'mpi_esm_lr'),\n",
       " ('access1_3', 'bnu_esm'),\n",
       " ('access1_3', 'access1_0'),\n",
       " ('access1_3', 'access1_3'),\n",
       " ('access1_3', 'noresm1_m'),\n",
       " ('access1_3', 'mpi_esm_mr'),\n",
       " ('access1_3', 'ipsl_cm5b_lr'),\n",
       " ('access1_3', 'ccsm4'),\n",
       " ('access1_3', 'ipsl_cm5a_mr'),\n",
       " ('access1_3', 'inmcm4'),\n",
       " ('access1_3', 'fio_esm'),\n",
       " ('access1_3', 'ipsl_cm5a_lr'),\n",
       " ('access1_3', 'era5'),\n",
       " ('noresm1_m', 'giss_e2_h_cc'),\n",
       " ('noresm1_m', 'mpi_esm_lr'),\n",
       " ('noresm1_m', 'bnu_esm'),\n",
       " ('noresm1_m', 'access1_0'),\n",
       " ('noresm1_m', 'access1_3'),\n",
       " ('noresm1_m', 'noresm1_m'),\n",
       " ('noresm1_m', 'mpi_esm_mr'),\n",
       " ('noresm1_m', 'ipsl_cm5b_lr'),\n",
       " ('noresm1_m', 'ccsm4'),\n",
       " ('noresm1_m', 'ipsl_cm5a_mr'),\n",
       " ('noresm1_m', 'inmcm4'),\n",
       " ('noresm1_m', 'fio_esm'),\n",
       " ('noresm1_m', 'ipsl_cm5a_lr'),\n",
       " ('noresm1_m', 'era5'),\n",
       " ('mpi_esm_mr', 'giss_e2_h_cc'),\n",
       " ('mpi_esm_mr', 'mpi_esm_lr'),\n",
       " ('mpi_esm_mr', 'bnu_esm'),\n",
       " ('mpi_esm_mr', 'access1_0'),\n",
       " ('mpi_esm_mr', 'access1_3'),\n",
       " ('mpi_esm_mr', 'noresm1_m'),\n",
       " ('mpi_esm_mr', 'mpi_esm_mr'),\n",
       " ('mpi_esm_mr', 'ipsl_cm5b_lr'),\n",
       " ('mpi_esm_mr', 'ccsm4'),\n",
       " ('mpi_esm_mr', 'ipsl_cm5a_mr'),\n",
       " ('mpi_esm_mr', 'inmcm4'),\n",
       " ('mpi_esm_mr', 'fio_esm'),\n",
       " ('mpi_esm_mr', 'ipsl_cm5a_lr'),\n",
       " ('mpi_esm_mr', 'era5'),\n",
       " ('ipsl_cm5b_lr', 'giss_e2_h_cc'),\n",
       " ('ipsl_cm5b_lr', 'mpi_esm_lr'),\n",
       " ('ipsl_cm5b_lr', 'bnu_esm'),\n",
       " ('ipsl_cm5b_lr', 'access1_0'),\n",
       " ('ipsl_cm5b_lr', 'access1_3'),\n",
       " ('ipsl_cm5b_lr', 'noresm1_m'),\n",
       " ('ipsl_cm5b_lr', 'mpi_esm_mr'),\n",
       " ('ipsl_cm5b_lr', 'ipsl_cm5b_lr'),\n",
       " ('ipsl_cm5b_lr', 'ccsm4'),\n",
       " ('ipsl_cm5b_lr', 'ipsl_cm5a_mr'),\n",
       " ('ipsl_cm5b_lr', 'inmcm4'),\n",
       " ('ipsl_cm5b_lr', 'fio_esm'),\n",
       " ('ipsl_cm5b_lr', 'ipsl_cm5a_lr'),\n",
       " ('ipsl_cm5b_lr', 'era5'),\n",
       " ('ccsm4', 'giss_e2_h_cc'),\n",
       " ('ccsm4', 'mpi_esm_lr'),\n",
       " ('ccsm4', 'bnu_esm'),\n",
       " ('ccsm4', 'access1_0'),\n",
       " ('ccsm4', 'access1_3'),\n",
       " ('ccsm4', 'noresm1_m'),\n",
       " ('ccsm4', 'mpi_esm_mr'),\n",
       " ('ccsm4', 'ipsl_cm5b_lr'),\n",
       " ('ccsm4', 'ccsm4'),\n",
       " ('ccsm4', 'ipsl_cm5a_mr'),\n",
       " ('ccsm4', 'inmcm4'),\n",
       " ('ccsm4', 'fio_esm'),\n",
       " ('ccsm4', 'ipsl_cm5a_lr'),\n",
       " ('ccsm4', 'era5'),\n",
       " ('ipsl_cm5a_mr', 'giss_e2_h_cc'),\n",
       " ('ipsl_cm5a_mr', 'mpi_esm_lr'),\n",
       " ('ipsl_cm5a_mr', 'bnu_esm'),\n",
       " ('ipsl_cm5a_mr', 'access1_0'),\n",
       " ('ipsl_cm5a_mr', 'access1_3'),\n",
       " ('ipsl_cm5a_mr', 'noresm1_m'),\n",
       " ('ipsl_cm5a_mr', 'mpi_esm_mr'),\n",
       " ('ipsl_cm5a_mr', 'ipsl_cm5b_lr'),\n",
       " ('ipsl_cm5a_mr', 'ccsm4'),\n",
       " ('ipsl_cm5a_mr', 'ipsl_cm5a_mr'),\n",
       " ('ipsl_cm5a_mr', 'inmcm4'),\n",
       " ('ipsl_cm5a_mr', 'fio_esm'),\n",
       " ('ipsl_cm5a_mr', 'ipsl_cm5a_lr'),\n",
       " ('ipsl_cm5a_mr', 'era5'),\n",
       " ('inmcm4', 'giss_e2_h_cc'),\n",
       " ('inmcm4', 'mpi_esm_lr'),\n",
       " ('inmcm4', 'bnu_esm'),\n",
       " ('inmcm4', 'access1_0'),\n",
       " ('inmcm4', 'access1_3'),\n",
       " ('inmcm4', 'noresm1_m'),\n",
       " ('inmcm4', 'mpi_esm_mr'),\n",
       " ('inmcm4', 'ipsl_cm5b_lr'),\n",
       " ('inmcm4', 'ccsm4'),\n",
       " ('inmcm4', 'ipsl_cm5a_mr'),\n",
       " ('inmcm4', 'inmcm4'),\n",
       " ('inmcm4', 'fio_esm'),\n",
       " ('inmcm4', 'ipsl_cm5a_lr'),\n",
       " ('inmcm4', 'era5'),\n",
       " ('fio_esm', 'giss_e2_h_cc'),\n",
       " ('fio_esm', 'mpi_esm_lr'),\n",
       " ('fio_esm', 'bnu_esm'),\n",
       " ('fio_esm', 'access1_0'),\n",
       " ('fio_esm', 'access1_3'),\n",
       " ('fio_esm', 'noresm1_m'),\n",
       " ('fio_esm', 'mpi_esm_mr'),\n",
       " ('fio_esm', 'ipsl_cm5b_lr'),\n",
       " ('fio_esm', 'ccsm4'),\n",
       " ('fio_esm', 'ipsl_cm5a_mr'),\n",
       " ('fio_esm', 'inmcm4'),\n",
       " ('fio_esm', 'fio_esm'),\n",
       " ('fio_esm', 'ipsl_cm5a_lr'),\n",
       " ('fio_esm', 'era5'),\n",
       " ('ipsl_cm5a_lr', 'giss_e2_h_cc'),\n",
       " ('ipsl_cm5a_lr', 'mpi_esm_lr'),\n",
       " ('ipsl_cm5a_lr', 'bnu_esm'),\n",
       " ('ipsl_cm5a_lr', 'access1_0'),\n",
       " ('ipsl_cm5a_lr', 'access1_3'),\n",
       " ('ipsl_cm5a_lr', 'noresm1_m'),\n",
       " ('ipsl_cm5a_lr', 'mpi_esm_mr'),\n",
       " ('ipsl_cm5a_lr', 'ipsl_cm5b_lr'),\n",
       " ('ipsl_cm5a_lr', 'ccsm4'),\n",
       " ('ipsl_cm5a_lr', 'ipsl_cm5a_mr'),\n",
       " ('ipsl_cm5a_lr', 'inmcm4'),\n",
       " ('ipsl_cm5a_lr', 'fio_esm'),\n",
       " ('ipsl_cm5a_lr', 'ipsl_cm5a_lr'),\n",
       " ('ipsl_cm5a_lr', 'era5'),\n",
       " ('era5', 'giss_e2_h_cc'),\n",
       " ('era5', 'mpi_esm_lr'),\n",
       " ('era5', 'bnu_esm'),\n",
       " ('era5', 'access1_0'),\n",
       " ('era5', 'access1_3'),\n",
       " ('era5', 'noresm1_m'),\n",
       " ('era5', 'mpi_esm_mr'),\n",
       " ('era5', 'ipsl_cm5b_lr'),\n",
       " ('era5', 'ccsm4'),\n",
       " ('era5', 'ipsl_cm5a_mr'),\n",
       " ('era5', 'inmcm4'),\n",
       " ('era5', 'fio_esm'),\n",
       " ('era5', 'ipsl_cm5a_lr'),\n",
       " ('era5', 'era5')]"
      ]
     },
     "execution_count": 61,
     "metadata": {},
     "output_type": "execute_result"
    }
   ],
   "source": [
    "[pair for pair in itertools.product(model_ids, model_ids)]"
   ]
  },
  {
   "cell_type": "code",
   "execution_count": 90,
   "id": "continent-forestry",
   "metadata": {},
   "outputs": [
    {
     "data": {
      "text/plain": [
       "[('inmcm4', 'inmcm4'),\n",
       " ('inmcm4', 'bnu_esm'),\n",
       " ('inmcm4', 'ipsl_cm5b_lr'),\n",
       " ('inmcm4', 'mpi_esm_mr'),\n",
       " ('inmcm4', 'access1_0'),\n",
       " ('inmcm4', 'mpi_esm_lr'),\n",
       " ('inmcm4', 'era5'),\n",
       " ('bnu_esm', 'inmcm4'),\n",
       " ('bnu_esm', 'bnu_esm'),\n",
       " ('bnu_esm', 'ipsl_cm5b_lr'),\n",
       " ('bnu_esm', 'mpi_esm_mr'),\n",
       " ('bnu_esm', 'access1_0'),\n",
       " ('bnu_esm', 'mpi_esm_lr'),\n",
       " ('bnu_esm', 'era5'),\n",
       " ('ipsl_cm5b_lr', 'inmcm4'),\n",
       " ('ipsl_cm5b_lr', 'bnu_esm'),\n",
       " ('ipsl_cm5b_lr', 'ipsl_cm5b_lr'),\n",
       " ('ipsl_cm5b_lr', 'mpi_esm_mr'),\n",
       " ('ipsl_cm5b_lr', 'access1_0'),\n",
       " ('ipsl_cm5b_lr', 'mpi_esm_lr'),\n",
       " ('ipsl_cm5b_lr', 'era5'),\n",
       " ('mpi_esm_mr', 'inmcm4'),\n",
       " ('mpi_esm_mr', 'bnu_esm'),\n",
       " ('mpi_esm_mr', 'ipsl_cm5b_lr'),\n",
       " ('mpi_esm_mr', 'mpi_esm_mr'),\n",
       " ('mpi_esm_mr', 'access1_0'),\n",
       " ('mpi_esm_mr', 'mpi_esm_lr'),\n",
       " ('mpi_esm_mr', 'era5'),\n",
       " ('access1_0', 'inmcm4'),\n",
       " ('access1_0', 'bnu_esm'),\n",
       " ('access1_0', 'ipsl_cm5b_lr'),\n",
       " ('access1_0', 'mpi_esm_mr'),\n",
       " ('access1_0', 'access1_0'),\n",
       " ('access1_0', 'mpi_esm_lr'),\n",
       " ('access1_0', 'era5'),\n",
       " ('mpi_esm_lr', 'inmcm4'),\n",
       " ('mpi_esm_lr', 'bnu_esm'),\n",
       " ('mpi_esm_lr', 'ipsl_cm5b_lr'),\n",
       " ('mpi_esm_lr', 'mpi_esm_mr'),\n",
       " ('mpi_esm_lr', 'access1_0'),\n",
       " ('mpi_esm_lr', 'mpi_esm_lr'),\n",
       " ('mpi_esm_lr', 'era5'),\n",
       " ('era5', 'inmcm4'),\n",
       " ('era5', 'bnu_esm'),\n",
       " ('era5', 'ipsl_cm5b_lr'),\n",
       " ('era5', 'mpi_esm_mr'),\n",
       " ('era5', 'access1_0'),\n",
       " ('era5', 'mpi_esm_lr'),\n",
       " ('era5', 'era5')]"
      ]
     },
     "execution_count": 90,
     "metadata": {},
     "output_type": "execute_result"
    }
   ],
   "source": [
    "import itertools\n",
    "all_pairs = [pair for pair in itertools.product(model_ids, model_ids)]\n",
    "inv_pairs = map(lambda x: tuple(reversed(x)), all_pairs)\n",
    "\n",
    "all_pairs"
   ]
  },
  {
   "cell_type": "code",
   "execution_count": 73,
   "id": "funky-memphis",
   "metadata": {},
   "outputs": [
    {
     "data": {
      "text/plain": [
       "(49, 21)"
      ]
     },
     "execution_count": 73,
     "metadata": {},
     "output_type": "execute_result"
    }
   ],
   "source": [
    "len(all_pairs), len(sym_pairs)"
   ]
  },
  {
   "cell_type": "code",
   "execution_count": 53,
   "id": "abroad-treasure",
   "metadata": {},
   "outputs": [
    {
     "data": {
      "text/plain": [
       "False"
      ]
     },
     "execution_count": 53,
     "metadata": {},
     "output_type": "execute_result"
    }
   ],
   "source": [
    "('era5', 'inmcm4') != tuple(reversed(('inmcm4', 'era5')))"
   ]
  },
  {
   "cell_type": "code",
   "execution_count": 52,
   "id": "historic-jason",
   "metadata": {},
   "outputs": [
    {
     "data": {
      "text/plain": [
       "<reversed at 0x7f76a07da550>"
      ]
     },
     "execution_count": 52,
     "metadata": {},
     "output_type": "execute_result"
    }
   ],
   "source": [
    "reversed(('inmcm4', 'era5'))"
   ]
  },
  {
   "cell_type": "code",
   "execution_count": null,
   "id": "metropolitan-performance",
   "metadata": {},
   "outputs": [],
   "source": []
  }
 ],
 "metadata": {
  "kernelspec": {
   "display_name": "Python [conda env:.conda-isp_data]",
   "language": "python",
   "name": "conda-env-.conda-isp_data-py"
  },
  "language_info": {
   "codemirror_mode": {
    "name": "ipython",
    "version": 3
   },
   "file_extension": ".py",
   "mimetype": "text/x-python",
   "name": "python",
   "nbconvert_exporter": "python",
   "pygments_lexer": "ipython3",
   "version": "3.9.2"
  }
 },
 "nbformat": 4,
 "nbformat_minor": 5
}
