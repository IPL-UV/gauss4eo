{
 "cells": [
  {
   "cell_type": "markdown",
   "id": "acknowledged-manhattan",
   "metadata": {},
   "source": [
    "# Demo Similarity\n",
    "\n",
    "**Base Model**\n",
    "\n",
    "* era5\n",
    "\n",
    "**CMIP5 Models**:\n",
    "* \"inmcm4\",\n",
    "* \"access1_0\",\n",
    "* \"bcc_csm1_1\",\n",
    "* \"bcc_csm1_1_m\",\n",
    "* \"bnu_esm\",\n",
    "* \"cnrm_cm5\",\n",
    "* \"ec_earth\",\n",
    "* \"fgoals_s2\",\n",
    "* \"ipsl_cm5b_lr\",\n",
    "* \"mpi_esm_lr\",\n",
    "* \"mpi_esm_mr\""
   ]
  },
  {
   "cell_type": "code",
   "execution_count": 12,
   "id": "standing-knife",
   "metadata": {},
   "outputs": [
    {
     "name": "stdout",
     "output_type": "stream",
     "text": [
      "The autoreload extension is already loaded. To reload it, use:\n",
      "  %reload_ext autoreload\n"
     ]
    }
   ],
   "source": [
    "import sys, os\n",
    "from pyprojroot import here\n",
    "\n",
    "# spyder up to find the root\n",
    "isp_root = \"/home/emmanuel/code/isp_data\"\n",
    "root = here(project_files=[\".here\"])\n",
    "\n",
    "# append to path\n",
    "sys.path.append(str(root))\n",
    "sys.path.append(str(isp_root))\n",
    "\n",
    "from pathlib import Path\n",
    "# \n",
    "import cdsapi\n",
    "import xarray as xr\n",
    "from pprint import pprint\n",
    "import cftime\n",
    "import xesmf as xe\n",
    "from isp_data.esdc.temporal import convert_to_360day_monthly\n",
    "\n",
    "\n",
    "# MATPLOTLIB Settings\n",
    "import matplotlib as mpl\n",
    "import matplotlib.pyplot as plt\n",
    "%matplotlib inline\n",
    "%config InlineBackend.figure_format = 'retina'\n",
    "\n",
    "# SEABORN SETTINGS\n",
    "import seaborn as sns\n",
    "sns.set_context(context='talk',font_scale=0.7)\n",
    "\n",
    "%load_ext autoreload\n",
    "%autoreload 2"
   ]
  },
  {
   "cell_type": "markdown",
   "id": "linear-yeast",
   "metadata": {},
   "source": [
    "## Load Data"
   ]
  },
  {
   "cell_type": "code",
   "execution_count": 4,
   "id": "nonprofit-penguin",
   "metadata": {},
   "outputs": [
    {
     "data": {
      "text/plain": [
       "'/home/emmanuel/projects/rbig4eo/datasets/'"
      ]
     },
     "execution_count": 4,
     "metadata": {},
     "output_type": "execute_result"
    }
   ],
   "source": [
    "DATASET_DIR = f\"{root}/datasets/\"\n",
    "DATASET_DIR"
   ]
  },
  {
   "cell_type": "code",
   "execution_count": 10,
   "id": "legislative-grove",
   "metadata": {},
   "outputs": [
    {
     "data": {
      "text/plain": [
       "['/home/emmanuel/projects/rbig4eo/datasets/cmip5/psl_Amon_inmcm4_rcp85_r1i1p1_200601-210012.nc',\n",
       " '/home/emmanuel/projects/rbig4eo/datasets/cmip5/psl_Amon_BNU-ESM_rcp85_r1i1p1_200601-210012.nc',\n",
       " '/home/emmanuel/projects/rbig4eo/datasets/cmip5/psl_Amon_IPSL-CM5B-LR_rcp85_r1i1p1_200601-210012.nc',\n",
       " '/home/emmanuel/projects/rbig4eo/datasets/cmip5/psl_Amon_MPI-ESM-MR_rcp85_r1i1p1_200601-210012.nc',\n",
       " '/home/emmanuel/projects/rbig4eo/datasets/cmip5/psl_Amon_ACCESS1-0_rcp85_r1i1p1_200601-210012.nc',\n",
       " '/home/emmanuel/projects/rbig4eo/datasets/cmip5/psl_Amon_MPI-ESM-LR_rcp85_r1i1p1_200601-210012.nc',\n",
       " '/home/emmanuel/projects/rbig4eo/datasets/era5/mslp_era5.nc']"
      ]
     },
     "execution_count": 10,
     "metadata": {},
     "output_type": "execute_result"
    }
   ],
   "source": [
    "cmip_glob = Path(DATASET_DIR).joinpath(\"cmip5\").glob(f\"*.nc\")\n",
    "era5_glob = Path(DATASET_DIR).joinpath(\"era5\").glob(f\"*.nc\")\n",
    "nc_files = [\n",
    "    str(x) for x in cmip_glob if x.is_file()\n",
    "] + [\n",
    "    str(x) for x in era5_glob if x.is_file()\n",
    "]\n",
    "nc_files"
   ]
  },
  {
   "cell_type": "code",
   "execution_count": 26,
   "id": "scheduled-absorption",
   "metadata": {},
   "outputs": [],
   "source": [
    "DATASET_DIR = f\"{root}/datasets/\"\n",
    "TIME_SLICE = slice(\"202001\", \"202012\")\n",
    "BASE_GRID_MODEL = \"ipsl_cm5b_lr\"\n",
    "\n",
    "\n",
    "# =====================\n",
    "# LOAD DATA\n",
    "# =====================\n",
    "\n",
    "cmip_glob = Path(DATASET_DIR).joinpath(\"cmip5\").glob(f\"*.nc\")\n",
    "era5_glob = Path(DATASET_DIR).joinpath(\"era5\").glob(f\"*.nc\")\n",
    "nc_files = [str(x) for x in cmip_glob if x.is_file()] + [\n",
    "    str(x) for x in era5_glob if x.is_file()\n",
    "]\n",
    "\n",
    "\n",
    "ds = {}\n",
    "for ifile in nc_files:\n",
    "    # manually set the encoding to use cftime\n",
    "    i_ds = xr.open_dataset(ifile, decode_times=True, use_cftime=True)\n",
    "\n",
    "    # assign a new coordinate name\n",
    "    try:\n",
    "        model_id = i_ds.model_id.lower().replace(\"-\", \"_\")\n",
    "\n",
    "    except:\n",
    "        model_id = \"era5\"\n",
    "        i_ds = i_ds.rename({\"msl\": \"psl\", \"latitude\": \"lat\", \"longitude\": \"lon\"})\n",
    "    i_ds = i_ds.assign_coords({\"model_id\": model_id})\n",
    "    # create the same calendar\n",
    "    i_ds = convert_to_360day_monthly(i_ds, False)\n",
    "\n",
    "    # move attributes to new coordinate\n",
    "    i_ds.model_id.attrs = i_ds.attrs\n",
    "    i_ds.attrs = {}\n",
    "\n",
    "    ds[model_id] = i_ds\n"
   ]
  },
  {
   "cell_type": "code",
   "execution_count": 27,
   "id": "thorough-patch",
   "metadata": {},
   "outputs": [],
   "source": [
    "# =====================\n",
    "# Select Time Slice\n",
    "# =====================\n",
    "for imodel_id, ids in ds.items():\n",
    "    ds[imodel_id] = ds[imodel_id].sel(time=TIME_SLICE)\n",
    "\n",
    "n_time = ds[imodel_id][\"time\"].values.shape[0]"
   ]
  },
  {
   "cell_type": "code",
   "execution_count": 28,
   "id": "neutral-wisdom",
   "metadata": {},
   "outputs": [],
   "source": [
    "# =====================\n",
    "# REGRID\n",
    "# =====================\n",
    "ds_out = xr.Dataset(\n",
    "    {\n",
    "        \"lat\": ([\"lat\"], ds[BASE_GRID_MODEL].lat),\n",
    "        \"lon\": ([\"lon\"], ds[BASE_GRID_MODEL].lon),\n",
    "    }\n",
    ")\n",
    "\n",
    "n_lat = ds_out.coords[\"lat\"].values.shape[0]\n",
    "n_lon = ds_out.coords[\"lon\"].values.shape[0]\n",
    "\n",
    "final_ds = []\n",
    "\n",
    "for imodel_id, ids in ds.items():\n",
    "    if imodel_id == \"ipsl_cm5b_lr\":\n",
    "        t = ids.psl\n",
    "        t.attrs = ids.attrs\n",
    "        final_ds.append(t)\n",
    "        continue\n",
    "\n",
    "    regridder = xe.Regridder(ids, ds_out, \"nearest_s2d\")\n",
    "    t = regridder(ids[\"psl\"])\n",
    "    t.attrs = ids.attrs\n",
    "    final_ds.append(t)\n",
    "\n",
    "final_ds = xr.concat(final_ds, dim=\"model_id\").reset_coords()"
   ]
  },
  {
   "cell_type": "code",
   "execution_count": 29,
   "id": "female-property",
   "metadata": {},
   "outputs": [
    {
     "data": {
      "text/plain": [
       "array(['inmcm4', 'bnu_esm', 'ipsl_cm5b_lr', 'mpi_esm_mr', 'access1_0',\n",
       "       'mpi_esm_lr', 'era5'], dtype='<U12')"
      ]
     },
     "execution_count": 29,
     "metadata": {},
     "output_type": "execute_result"
    }
   ],
   "source": [
    "final_ds.coords[\"model_id\"].values"
   ]
  },
  {
   "cell_type": "code",
   "execution_count": 88,
   "id": "variable-wayne",
   "metadata": {},
   "outputs": [
    {
     "name": "stderr",
     "output_type": "stream",
     "text": [
      "Calculating nHSIC Coeff...: 100%|██████████| 21/21 [07:02<00:00, 20.10s/it]                \n"
     ]
    }
   ],
   "source": [
    "# =====================\n",
    "# PEARSON CORRELATION\n",
    "# =====================\n",
    "\n",
    "import pandas as pd\n",
    "\n",
    "all_stats = pd.DataFrame()\n",
    "from scipy.stats import pearsonr\n",
    "\n",
    "# get all model IDS\n",
    "model_ids = final_ds.coords[\"model_id\"].values\n",
    "sym_pairs = [pair for pair in itertools.combinations(model_ids, 2)]\n",
    "\n",
    "import tqdm\n",
    "import numpy as np\n",
    "\n",
    "with tqdm.tqdm(sym_pairs) as pbar:\n",
    "\n",
    "    for i, imodel_pair in enumerate(pbar):\n",
    "        \n",
    "        imodel_stats = {\"model_0\": imodel_pair[0], \"model_1\": imodel_pair[1]}\n",
    "\n",
    "        pbar.set_description(f\"Model 1: {imodel_pair[0]}, Model 2: {imodel_pair[1]}\")\n",
    "\n",
    "        # select model\n",
    "        ids = final_ds.sel(model_id=[imodel_pair[0], imodel_pair[1]]).psl.values\n",
    "\n",
    "\n",
    "        # calculate pearson correlation\n",
    "        pbar.set_description(f\"Calculating Correlation...\")\n",
    "        \n",
    "        x = np.reshape(ids[0], (n_lat * n_lon * n_time))\n",
    "        y = np.reshape(ids[1], (n_lat * n_lon * n_time))\n",
    "\n",
    "        prs_r = pearson(x, y)\n",
    "        \n",
    "        imodel_stats = {**imodel_stats, **prs_r}\n",
    "        \n",
    "        \n",
    "        # calculate pearson correlation\n",
    "        pbar.set_description(f\"Calculating RV Coeff...\")\n",
    "        \n",
    "        X = np.reshape(ids[0], (n_lat * n_lon, n_time))\n",
    "        Y = np.reshape(ids[1], (n_lat * n_lon, n_time))\n",
    "        rv = rv_coefficient(X, Y)\n",
    "        \n",
    "        imodel_stats = {**imodel_stats, **rv}\n",
    "        \n",
    "        # calculate pearson correlation\n",
    "        pbar.set_description(f\"Calculating nHSIC Coeff...\")\n",
    "        \n",
    "        nhsic = cka_coefficient(X, Y)\n",
    "        \n",
    "        imodel_stats = {**imodel_stats, **nhsic}\n",
    "        \n",
    "        all_stats = pd.concat([all_stats, pd.DataFrame(imodel_stats, index=[i])], axis=0)"
   ]
  },
  {
   "cell_type": "code",
   "execution_count": 89,
   "id": "known-essay",
   "metadata": {},
   "outputs": [
    {
     "data": {
      "text/html": [
       "<div>\n",
       "<style scoped>\n",
       "    .dataframe tbody tr th:only-of-type {\n",
       "        vertical-align: middle;\n",
       "    }\n",
       "\n",
       "    .dataframe tbody tr th {\n",
       "        vertical-align: top;\n",
       "    }\n",
       "\n",
       "    .dataframe thead th {\n",
       "        text-align: right;\n",
       "    }\n",
       "</style>\n",
       "<table border=\"1\" class=\"dataframe\">\n",
       "  <thead>\n",
       "    <tr style=\"text-align: right;\">\n",
       "      <th></th>\n",
       "      <th>model_0</th>\n",
       "      <th>model_1</th>\n",
       "      <th>pearson</th>\n",
       "      <th>x_std</th>\n",
       "      <th>y_std</th>\n",
       "      <th>rv_coef</th>\n",
       "      <th>x_norm</th>\n",
       "      <th>y_norm</th>\n",
       "      <th>xy_norm</th>\n",
       "      <th>cka_coeff</th>\n",
       "      <th>cka_y_norm</th>\n",
       "      <th>cka_x_norm</th>\n",
       "      <th>cka_xy_norm</th>\n",
       "    </tr>\n",
       "  </thead>\n",
       "  <tbody>\n",
       "    <tr>\n",
       "      <th>0</th>\n",
       "      <td>inmcm4</td>\n",
       "      <td>bnu_esm</td>\n",
       "      <td>0.713392</td>\n",
       "      <td>1066.494716</td>\n",
       "      <td>1241.193674</td>\n",
       "      <td>0.525760</td>\n",
       "      <td>1.184638e+11</td>\n",
       "      <td>1.649051e+11</td>\n",
       "      <td>1.027087e+22</td>\n",
       "      <td>0.525760</td>\n",
       "      <td>0.002062</td>\n",
       "      <td>0.002543</td>\n",
       "      <td>2.756948e-06</td>\n",
       "    </tr>\n",
       "    <tr>\n",
       "      <th>1</th>\n",
       "      <td>inmcm4</td>\n",
       "      <td>ipsl_cm5b_lr</td>\n",
       "      <td>0.593819</td>\n",
       "      <td>1066.494716</td>\n",
       "      <td>1636.617173</td>\n",
       "      <td>0.350334</td>\n",
       "      <td>1.184638e+11</td>\n",
       "      <td>2.729027e+11</td>\n",
       "      <td>1.132599e+22</td>\n",
       "      <td>0.350334</td>\n",
       "      <td>0.003939</td>\n",
       "      <td>0.002543</td>\n",
       "      <td>3.509561e-06</td>\n",
       "    </tr>\n",
       "    <tr>\n",
       "      <th>2</th>\n",
       "      <td>inmcm4</td>\n",
       "      <td>mpi_esm_mr</td>\n",
       "      <td>0.672918</td>\n",
       "      <td>1066.494716</td>\n",
       "      <td>1037.069109</td>\n",
       "      <td>0.467147</td>\n",
       "      <td>1.184638e+11</td>\n",
       "      <td>1.133496e+11</td>\n",
       "      <td>6.272773e+21</td>\n",
       "      <td>0.467147</td>\n",
       "      <td>0.002611</td>\n",
       "      <td>0.002543</td>\n",
       "      <td>3.102582e-06</td>\n",
       "    </tr>\n",
       "    <tr>\n",
       "      <th>3</th>\n",
       "      <td>inmcm4</td>\n",
       "      <td>access1_0</td>\n",
       "      <td>0.660732</td>\n",
       "      <td>1066.494716</td>\n",
       "      <td>1169.235819</td>\n",
       "      <td>0.454143</td>\n",
       "      <td>1.184638e+11</td>\n",
       "      <td>1.461976e+11</td>\n",
       "      <td>7.865352e+21</td>\n",
       "      <td>0.454143</td>\n",
       "      <td>0.002722</td>\n",
       "      <td>0.002543</td>\n",
       "      <td>3.144027e-06</td>\n",
       "    </tr>\n",
       "    <tr>\n",
       "      <th>4</th>\n",
       "      <td>inmcm4</td>\n",
       "      <td>mpi_esm_lr</td>\n",
       "      <td>0.763364</td>\n",
       "      <td>1066.494716</td>\n",
       "      <td>966.900659</td>\n",
       "      <td>0.604657</td>\n",
       "      <td>1.184638e+11</td>\n",
       "      <td>9.791680e+10</td>\n",
       "      <td>7.013780e+21</td>\n",
       "      <td>0.604657</td>\n",
       "      <td>0.002724</td>\n",
       "      <td>0.002543</td>\n",
       "      <td>4.188984e-06</td>\n",
       "    </tr>\n",
       "    <tr>\n",
       "      <th>5</th>\n",
       "      <td>inmcm4</td>\n",
       "      <td>era5</td>\n",
       "      <td>0.830533</td>\n",
       "      <td>1066.494716</td>\n",
       "      <td>1122.984655</td>\n",
       "      <td>0.711749</td>\n",
       "      <td>1.184638e+11</td>\n",
       "      <td>1.338248e+11</td>\n",
       "      <td>1.128364e+22</td>\n",
       "      <td>0.711749</td>\n",
       "      <td>0.003841</td>\n",
       "      <td>0.002543</td>\n",
       "      <td>6.953223e-06</td>\n",
       "    </tr>\n",
       "    <tr>\n",
       "      <th>6</th>\n",
       "      <td>bnu_esm</td>\n",
       "      <td>ipsl_cm5b_lr</td>\n",
       "      <td>0.287756</td>\n",
       "      <td>1241.193674</td>\n",
       "      <td>1636.617173</td>\n",
       "      <td>0.080147</td>\n",
       "      <td>1.649051e+11</td>\n",
       "      <td>2.729027e+11</td>\n",
       "      <td>3.606862e+21</td>\n",
       "      <td>0.080148</td>\n",
       "      <td>0.003939</td>\n",
       "      <td>0.002062</td>\n",
       "      <td>6.508667e-07</td>\n",
       "    </tr>\n",
       "    <tr>\n",
       "      <th>7</th>\n",
       "      <td>bnu_esm</td>\n",
       "      <td>mpi_esm_mr</td>\n",
       "      <td>0.762589</td>\n",
       "      <td>1241.193674</td>\n",
       "      <td>1037.069109</td>\n",
       "      <td>0.601649</td>\n",
       "      <td>1.649051e+11</td>\n",
       "      <td>1.133496e+11</td>\n",
       "      <td>1.124598e+22</td>\n",
       "      <td>0.601649</td>\n",
       "      <td>0.002611</td>\n",
       "      <td>0.002062</td>\n",
       "      <td>3.239241e-06</td>\n",
       "    </tr>\n",
       "    <tr>\n",
       "      <th>8</th>\n",
       "      <td>bnu_esm</td>\n",
       "      <td>access1_0</td>\n",
       "      <td>0.756031</td>\n",
       "      <td>1241.193674</td>\n",
       "      <td>1169.235819</td>\n",
       "      <td>0.588201</td>\n",
       "      <td>1.649051e+11</td>\n",
       "      <td>1.461976e+11</td>\n",
       "      <td>1.418079e+22</td>\n",
       "      <td>0.588201</td>\n",
       "      <td>0.002722</td>\n",
       "      <td>0.002062</td>\n",
       "      <td>3.301040e-06</td>\n",
       "    </tr>\n",
       "    <tr>\n",
       "      <th>9</th>\n",
       "      <td>bnu_esm</td>\n",
       "      <td>mpi_esm_lr</td>\n",
       "      <td>0.707299</td>\n",
       "      <td>1241.193674</td>\n",
       "      <td>966.900659</td>\n",
       "      <td>0.517607</td>\n",
       "      <td>1.649051e+11</td>\n",
       "      <td>9.791680e+10</td>\n",
       "      <td>8.357795e+21</td>\n",
       "      <td>0.517607</td>\n",
       "      <td>0.002724</td>\n",
       "      <td>0.002062</td>\n",
       "      <td>2.906904e-06</td>\n",
       "    </tr>\n",
       "    <tr>\n",
       "      <th>10</th>\n",
       "      <td>bnu_esm</td>\n",
       "      <td>era5</td>\n",
       "      <td>0.790370</td>\n",
       "      <td>1241.193674</td>\n",
       "      <td>1122.984655</td>\n",
       "      <td>0.646214</td>\n",
       "      <td>1.649051e+11</td>\n",
       "      <td>1.338248e+11</td>\n",
       "      <td>1.426091e+22</td>\n",
       "      <td>0.646214</td>\n",
       "      <td>0.003841</td>\n",
       "      <td>0.002062</td>\n",
       "      <td>5.117603e-06</td>\n",
       "    </tr>\n",
       "    <tr>\n",
       "      <th>11</th>\n",
       "      <td>ipsl_cm5b_lr</td>\n",
       "      <td>mpi_esm_mr</td>\n",
       "      <td>0.327786</td>\n",
       "      <td>1636.617173</td>\n",
       "      <td>1037.069109</td>\n",
       "      <td>0.106567</td>\n",
       "      <td>2.729027e+11</td>\n",
       "      <td>1.133496e+11</td>\n",
       "      <td>3.296475e+21</td>\n",
       "      <td>0.106567</td>\n",
       "      <td>0.002611</td>\n",
       "      <td>0.003939</td>\n",
       "      <td>1.096109e-06</td>\n",
       "    </tr>\n",
       "    <tr>\n",
       "      <th>12</th>\n",
       "      <td>ipsl_cm5b_lr</td>\n",
       "      <td>access1_0</td>\n",
       "      <td>0.166441</td>\n",
       "      <td>1636.617173</td>\n",
       "      <td>1169.235819</td>\n",
       "      <td>0.026888</td>\n",
       "      <td>2.729027e+11</td>\n",
       "      <td>1.461976e+11</td>\n",
       "      <td>1.072756e+21</td>\n",
       "      <td>0.026888</td>\n",
       "      <td>0.002722</td>\n",
       "      <td>0.003939</td>\n",
       "      <td>2.882828e-07</td>\n",
       "    </tr>\n",
       "    <tr>\n",
       "      <th>13</th>\n",
       "      <td>ipsl_cm5b_lr</td>\n",
       "      <td>mpi_esm_lr</td>\n",
       "      <td>0.432428</td>\n",
       "      <td>1636.617173</td>\n",
       "      <td>966.900659</td>\n",
       "      <td>0.190094</td>\n",
       "      <td>2.729027e+11</td>\n",
       "      <td>9.791680e+10</td>\n",
       "      <td>5.079634e+21</td>\n",
       "      <td>0.190094</td>\n",
       "      <td>0.002724</td>\n",
       "      <td>0.003939</td>\n",
       "      <td>2.039520e-06</td>\n",
       "    </tr>\n",
       "    <tr>\n",
       "      <th>14</th>\n",
       "      <td>ipsl_cm5b_lr</td>\n",
       "      <td>era5</td>\n",
       "      <td>0.379454</td>\n",
       "      <td>1636.617173</td>\n",
       "      <td>1122.984655</td>\n",
       "      <td>0.139799</td>\n",
       "      <td>2.729027e+11</td>\n",
       "      <td>1.338248e+11</td>\n",
       "      <td>5.105613e+21</td>\n",
       "      <td>0.139799</td>\n",
       "      <td>0.003841</td>\n",
       "      <td>0.003939</td>\n",
       "      <td>2.115067e-06</td>\n",
       "    </tr>\n",
       "    <tr>\n",
       "      <th>15</th>\n",
       "      <td>mpi_esm_mr</td>\n",
       "      <td>access1_0</td>\n",
       "      <td>0.757306</td>\n",
       "      <td>1037.069109</td>\n",
       "      <td>1169.235819</td>\n",
       "      <td>0.597617</td>\n",
       "      <td>1.133496e+11</td>\n",
       "      <td>1.461976e+11</td>\n",
       "      <td>9.903380e+21</td>\n",
       "      <td>0.597617</td>\n",
       "      <td>0.002722</td>\n",
       "      <td>0.002611</td>\n",
       "      <td>4.247920e-06</td>\n",
       "    </tr>\n",
       "    <tr>\n",
       "      <th>16</th>\n",
       "      <td>mpi_esm_mr</td>\n",
       "      <td>mpi_esm_lr</td>\n",
       "      <td>0.725785</td>\n",
       "      <td>1037.069109</td>\n",
       "      <td>966.900659</td>\n",
       "      <td>0.540656</td>\n",
       "      <td>1.133496e+11</td>\n",
       "      <td>9.791680e+10</td>\n",
       "      <td>6.000657e+21</td>\n",
       "      <td>0.540657</td>\n",
       "      <td>0.002724</td>\n",
       "      <td>0.002611</td>\n",
       "      <td>3.845743e-06</td>\n",
       "    </tr>\n",
       "    <tr>\n",
       "      <th>17</th>\n",
       "      <td>mpi_esm_mr</td>\n",
       "      <td>era5</td>\n",
       "      <td>0.751397</td>\n",
       "      <td>1037.069109</td>\n",
       "      <td>1122.984655</td>\n",
       "      <td>0.577154</td>\n",
       "      <td>1.133496e+11</td>\n",
       "      <td>1.338248e+11</td>\n",
       "      <td>8.754847e+21</td>\n",
       "      <td>0.577154</td>\n",
       "      <td>0.003841</td>\n",
       "      <td>0.002611</td>\n",
       "      <td>5.789090e-06</td>\n",
       "    </tr>\n",
       "    <tr>\n",
       "      <th>18</th>\n",
       "      <td>access1_0</td>\n",
       "      <td>mpi_esm_lr</td>\n",
       "      <td>0.786449</td>\n",
       "      <td>1169.235819</td>\n",
       "      <td>966.900659</td>\n",
       "      <td>0.643920</td>\n",
       "      <td>1.461976e+11</td>\n",
       "      <td>9.791680e+10</td>\n",
       "      <td>9.217844e+21</td>\n",
       "      <td>0.643920</td>\n",
       "      <td>0.002724</td>\n",
       "      <td>0.002722</td>\n",
       "      <td>4.774360e-06</td>\n",
       "    </tr>\n",
       "    <tr>\n",
       "      <th>19</th>\n",
       "      <td>access1_0</td>\n",
       "      <td>era5</td>\n",
       "      <td>0.816065</td>\n",
       "      <td>1169.235819</td>\n",
       "      <td>1122.984655</td>\n",
       "      <td>0.688219</td>\n",
       "      <td>1.461976e+11</td>\n",
       "      <td>1.338248e+11</td>\n",
       "      <td>1.346491e+22</td>\n",
       "      <td>0.688219</td>\n",
       "      <td>0.003841</td>\n",
       "      <td>0.002722</td>\n",
       "      <td>7.195646e-06</td>\n",
       "    </tr>\n",
       "    <tr>\n",
       "      <th>20</th>\n",
       "      <td>mpi_esm_lr</td>\n",
       "      <td>era5</td>\n",
       "      <td>0.793379</td>\n",
       "      <td>966.900659</td>\n",
       "      <td>1122.984655</td>\n",
       "      <td>0.653275</td>\n",
       "      <td>9.791680e+10</td>\n",
       "      <td>1.338248e+11</td>\n",
       "      <td>8.560318e+21</td>\n",
       "      <td>0.653275</td>\n",
       "      <td>0.003841</td>\n",
       "      <td>0.002724</td>\n",
       "      <td>6.835097e-06</td>\n",
       "    </tr>\n",
       "  </tbody>\n",
       "</table>\n",
       "</div>"
      ],
      "text/plain": [
       "         model_0       model_1   pearson        x_std        y_std   rv_coef  \\\n",
       "0         inmcm4       bnu_esm  0.713392  1066.494716  1241.193674  0.525760   \n",
       "1         inmcm4  ipsl_cm5b_lr  0.593819  1066.494716  1636.617173  0.350334   \n",
       "2         inmcm4    mpi_esm_mr  0.672918  1066.494716  1037.069109  0.467147   \n",
       "3         inmcm4     access1_0  0.660732  1066.494716  1169.235819  0.454143   \n",
       "4         inmcm4    mpi_esm_lr  0.763364  1066.494716   966.900659  0.604657   \n",
       "5         inmcm4          era5  0.830533  1066.494716  1122.984655  0.711749   \n",
       "6        bnu_esm  ipsl_cm5b_lr  0.287756  1241.193674  1636.617173  0.080147   \n",
       "7        bnu_esm    mpi_esm_mr  0.762589  1241.193674  1037.069109  0.601649   \n",
       "8        bnu_esm     access1_0  0.756031  1241.193674  1169.235819  0.588201   \n",
       "9        bnu_esm    mpi_esm_lr  0.707299  1241.193674   966.900659  0.517607   \n",
       "10       bnu_esm          era5  0.790370  1241.193674  1122.984655  0.646214   \n",
       "11  ipsl_cm5b_lr    mpi_esm_mr  0.327786  1636.617173  1037.069109  0.106567   \n",
       "12  ipsl_cm5b_lr     access1_0  0.166441  1636.617173  1169.235819  0.026888   \n",
       "13  ipsl_cm5b_lr    mpi_esm_lr  0.432428  1636.617173   966.900659  0.190094   \n",
       "14  ipsl_cm5b_lr          era5  0.379454  1636.617173  1122.984655  0.139799   \n",
       "15    mpi_esm_mr     access1_0  0.757306  1037.069109  1169.235819  0.597617   \n",
       "16    mpi_esm_mr    mpi_esm_lr  0.725785  1037.069109   966.900659  0.540656   \n",
       "17    mpi_esm_mr          era5  0.751397  1037.069109  1122.984655  0.577154   \n",
       "18     access1_0    mpi_esm_lr  0.786449  1169.235819   966.900659  0.643920   \n",
       "19     access1_0          era5  0.816065  1169.235819  1122.984655  0.688219   \n",
       "20    mpi_esm_lr          era5  0.793379   966.900659  1122.984655  0.653275   \n",
       "\n",
       "          x_norm        y_norm       xy_norm  cka_coeff  cka_y_norm  \\\n",
       "0   1.184638e+11  1.649051e+11  1.027087e+22   0.525760    0.002062   \n",
       "1   1.184638e+11  2.729027e+11  1.132599e+22   0.350334    0.003939   \n",
       "2   1.184638e+11  1.133496e+11  6.272773e+21   0.467147    0.002611   \n",
       "3   1.184638e+11  1.461976e+11  7.865352e+21   0.454143    0.002722   \n",
       "4   1.184638e+11  9.791680e+10  7.013780e+21   0.604657    0.002724   \n",
       "5   1.184638e+11  1.338248e+11  1.128364e+22   0.711749    0.003841   \n",
       "6   1.649051e+11  2.729027e+11  3.606862e+21   0.080148    0.003939   \n",
       "7   1.649051e+11  1.133496e+11  1.124598e+22   0.601649    0.002611   \n",
       "8   1.649051e+11  1.461976e+11  1.418079e+22   0.588201    0.002722   \n",
       "9   1.649051e+11  9.791680e+10  8.357795e+21   0.517607    0.002724   \n",
       "10  1.649051e+11  1.338248e+11  1.426091e+22   0.646214    0.003841   \n",
       "11  2.729027e+11  1.133496e+11  3.296475e+21   0.106567    0.002611   \n",
       "12  2.729027e+11  1.461976e+11  1.072756e+21   0.026888    0.002722   \n",
       "13  2.729027e+11  9.791680e+10  5.079634e+21   0.190094    0.002724   \n",
       "14  2.729027e+11  1.338248e+11  5.105613e+21   0.139799    0.003841   \n",
       "15  1.133496e+11  1.461976e+11  9.903380e+21   0.597617    0.002722   \n",
       "16  1.133496e+11  9.791680e+10  6.000657e+21   0.540657    0.002724   \n",
       "17  1.133496e+11  1.338248e+11  8.754847e+21   0.577154    0.003841   \n",
       "18  1.461976e+11  9.791680e+10  9.217844e+21   0.643920    0.002724   \n",
       "19  1.461976e+11  1.338248e+11  1.346491e+22   0.688219    0.003841   \n",
       "20  9.791680e+10  1.338248e+11  8.560318e+21   0.653275    0.003841   \n",
       "\n",
       "    cka_x_norm   cka_xy_norm  \n",
       "0     0.002543  2.756948e-06  \n",
       "1     0.002543  3.509561e-06  \n",
       "2     0.002543  3.102582e-06  \n",
       "3     0.002543  3.144027e-06  \n",
       "4     0.002543  4.188984e-06  \n",
       "5     0.002543  6.953223e-06  \n",
       "6     0.002062  6.508667e-07  \n",
       "7     0.002062  3.239241e-06  \n",
       "8     0.002062  3.301040e-06  \n",
       "9     0.002062  2.906904e-06  \n",
       "10    0.002062  5.117603e-06  \n",
       "11    0.003939  1.096109e-06  \n",
       "12    0.003939  2.882828e-07  \n",
       "13    0.003939  2.039520e-06  \n",
       "14    0.003939  2.115067e-06  \n",
       "15    0.002611  4.247920e-06  \n",
       "16    0.002611  3.845743e-06  \n",
       "17    0.002611  5.789090e-06  \n",
       "18    0.002722  4.774360e-06  \n",
       "19    0.002722  7.195646e-06  \n",
       "20    0.002724  6.835097e-06  "
      ]
     },
     "execution_count": 89,
     "metadata": {},
     "output_type": "execute_result"
    }
   ],
   "source": [
    "all_stats"
   ]
  },
  {
   "cell_type": "code",
   "execution_count": 102,
   "id": "consecutive-commercial",
   "metadata": {},
   "outputs": [
    {
     "data": {
      "image/png": "[encoded data removed]",
      "text/plain": [
       "<Figure size 432x288 with 2 Axes>"
      ]
     },
     "metadata": {
      "image/png": {
       "height": 339,
       "width": 443
      },
      "needs_background": "light"
     },
     "output_type": "display_data"
    }
   ],
   "source": [
    "t = all_stats[[\"model_0\", \"model_1\", \"pearson\"]]\n",
    "t = pd.concat([t, t.rename(columns={\"model_0\": \"model_1\", \"model_1\": \"model_0\"})], axis=0).drop_duplicates()\n",
    "t = t.pivot(\"model_0\", \"model_1\", \"pearson\")\n",
    "\n",
    "ax = sns.heatmap(t, vmin=0, vmax=1.0, cmap='Reds_r')"
   ]
  },
  {
   "cell_type": "code",
   "execution_count": 103,
   "id": "concerned-begin",
   "metadata": {},
   "outputs": [
    {
     "data": {
      "image/png": "[encoded data removed]",
      "text/plain": [
       "<Figure size 432x288 with 2 Axes>"
      ]
     },
     "metadata": {
      "image/png": {
       "height": 339,
       "width": 443
      },
      "needs_background": "light"
     },
     "output_type": "display_data"
    }
   ],
   "source": [
    "t = all_stats[[\"model_0\", \"model_1\", \"rv_coef\"]]\n",
    "t = pd.concat([t, t.rename(columns={\"model_0\": \"model_1\", \"model_1\": \"model_0\"})], axis=0).drop_duplicates()\n",
    "t = t.pivot(\"model_0\", \"model_1\", \"rv_coef\")\n",
    "\n",
    "ax = sns.heatmap(t, vmin=0, vmax=1.0, cmap='Reds_r')"
   ]
  },
  {
   "cell_type": "code",
   "execution_count": 104,
   "id": "animal-housing",
   "metadata": {},
   "outputs": [
    {
     "data": {
      "image/png": "[encoded data removed]",
      "text/plain": [
       "<Figure size 432x288 with 2 Axes>"
      ]
     },
     "metadata": {
      "image/png": {
       "height": 339,
       "width": 443
      },
      "needs_background": "light"
     },
     "output_type": "display_data"
    }
   ],
   "source": [
    "t = all_stats[[\"model_0\", \"model_1\", \"cka_coeff\"]]\n",
    "t = pd.concat([t, t.rename(columns={\"model_0\": \"model_1\", \"model_1\": \"model_0\"})], axis=0).drop_duplicates()\n",
    "t = t.pivot(\"model_0\", \"model_1\", \"cka_coeff\")\n",
    "\n",
    "ax = sns.heatmap(t, vmin=0, vmax=1.0, cmap='Reds_r')"
   ]
  },
  {
   "cell_type": "code",
   "execution_count": 115,
   "id": "directed-plumbing",
   "metadata": {},
   "outputs": [],
   "source": [
    "import scipy.cluster.hierarchy as spc\n",
    "pdist = 1 - np.abs(t.values)\n",
    "pdist = pdist[np.triu_indices_from(pdist, k=1)]\n",
    "linkage = spc.linkage(pdist, method=\"complete\", optimal_ordering=True)\n",
    "order = spc.leaves_list(linkage)\n",
    "\n",
    "name_corrections = {\n",
    "    \"access1_0\": \"ACCESS1.0\",\n",
    "    \"bnu_esm\": \"BNU ESM\",\n",
    "    \"era5\": \"ERA5\",\n",
    "    \"inmcm4\": \"INMCM4\",\n",
    "    \"ipsl_cm5b_lr\": \"IPSL-CM5B-LR\",\n",
    "    \"mpi_esm_lr\": \"MPI-ESM-LR\",\n",
    "    \"mpi_esm_mr\": \"MPI-ESM-MR\",\n",
    "}\n",
    "names = [i for i in name_corrections.values()]\n",
    "# def names(i):\n",
    "#     return name_corrections"
   ]
  },
  {
   "cell_type": "code",
   "execution_count": 116,
   "id": "decimal-dictionary",
   "metadata": {},
   "outputs": [
    {
     "data": {
      "image/png": "[encoded data removed]",
      "text/plain": [
       "<Figure size 432x288 with 1 Axes>"
      ]
     },
     "metadata": {
      "image/png": {
       "height": 255,
       "width": 433
      },
      "needs_background": "light"
     },
     "output_type": "display_data"
    }
   ],
   "source": [
    "d = spc.dendrogram(\n",
    "        linkage,\n",
    "        above_threshold_color=\"k\",\n",
    "        color_threshold=0.4,\n",
    "        orientation=\"right\",\n",
    "        leaf_label_func=lambda i: names[i],\n",
    "        leaf_font_size=10,\n",
    "        leaf_rotation=0,\n",
    "    )"
   ]
  },
  {
   "cell_type": "code",
   "execution_count": null,
   "id": "dietary-revision",
   "metadata": {},
   "outputs": [],
   "source": [
    "all_pairs = [pair for pair in itertools.product(model_ids, model_ids)]\n",
    "\n",
    "grid_size =\n",
    "\n",
    "for im, jm in all_pairs"
   ]
  },
  {
   "cell_type": "code",
   "execution_count": null,
   "id": "missing-processing",
   "metadata": {},
   "outputs": [],
   "source": [
    "from src.models.univariate import univariate_stats, pearson\n",
    "from src.models.kernels import rv_coefficient, cka_coefficient"
   ]
  },
  {
   "cell_type": "code",
   "execution_count": 47,
   "id": "centered-publication",
   "metadata": {},
   "outputs": [
    {
     "data": {
      "text/plain": [
       "array(['inmcm4', 'bnu_esm', 'ipsl_cm5b_lr', 'mpi_esm_mr', 'access1_0',\n",
       "       'mpi_esm_lr', 'era5'], dtype='<U12')"
      ]
     },
     "execution_count": 47,
     "metadata": {},
     "output_type": "execute_result"
    }
   ],
   "source": [
    "model_ids"
   ]
  },
  {
   "cell_type": "code",
   "execution_count": 56,
   "id": "informed-directive",
   "metadata": {},
   "outputs": [
    {
     "data": {
      "text/plain": [
       "[('inmcm4', 'inmcm4'),\n",
       " ('inmcm4', 'bnu_esm'),\n",
       " ('inmcm4', 'ipsl_cm5b_lr'),\n",
       " ('inmcm4', 'mpi_esm_mr'),\n",
       " ('inmcm4', 'access1_0'),\n",
       " ('inmcm4', 'mpi_esm_lr'),\n",
       " ('inmcm4', 'era5'),\n",
       " ('bnu_esm', 'inmcm4'),\n",
       " ('bnu_esm', 'bnu_esm'),\n",
       " ('bnu_esm', 'ipsl_cm5b_lr'),\n",
       " ('bnu_esm', 'mpi_esm_mr'),\n",
       " ('bnu_esm', 'access1_0'),\n",
       " ('bnu_esm', 'mpi_esm_lr'),\n",
       " ('bnu_esm', 'era5'),\n",
       " ('ipsl_cm5b_lr', 'inmcm4'),\n",
       " ('ipsl_cm5b_lr', 'bnu_esm'),\n",
       " ('ipsl_cm5b_lr', 'ipsl_cm5b_lr'),\n",
       " ('ipsl_cm5b_lr', 'mpi_esm_mr'),\n",
       " ('ipsl_cm5b_lr', 'access1_0'),\n",
       " ('ipsl_cm5b_lr', 'mpi_esm_lr'),\n",
       " ('ipsl_cm5b_lr', 'era5'),\n",
       " ('mpi_esm_mr', 'inmcm4'),\n",
       " ('mpi_esm_mr', 'bnu_esm'),\n",
       " ('mpi_esm_mr', 'ipsl_cm5b_lr'),\n",
       " ('mpi_esm_mr', 'mpi_esm_mr'),\n",
       " ('mpi_esm_mr', 'access1_0'),\n",
       " ('mpi_esm_mr', 'mpi_esm_lr'),\n",
       " ('mpi_esm_mr', 'era5'),\n",
       " ('access1_0', 'inmcm4'),\n",
       " ('access1_0', 'bnu_esm'),\n",
       " ('access1_0', 'ipsl_cm5b_lr'),\n",
       " ('access1_0', 'mpi_esm_mr'),\n",
       " ('access1_0', 'access1_0'),\n",
       " ('access1_0', 'mpi_esm_lr'),\n",
       " ('access1_0', 'era5'),\n",
       " ('mpi_esm_lr', 'inmcm4'),\n",
       " ('mpi_esm_lr', 'bnu_esm'),\n",
       " ('mpi_esm_lr', 'ipsl_cm5b_lr'),\n",
       " ('mpi_esm_lr', 'mpi_esm_mr'),\n",
       " ('mpi_esm_lr', 'access1_0'),\n",
       " ('mpi_esm_lr', 'mpi_esm_lr'),\n",
       " ('mpi_esm_lr', 'era5'),\n",
       " ('era5', 'inmcm4'),\n",
       " ('era5', 'bnu_esm'),\n",
       " ('era5', 'ipsl_cm5b_lr'),\n",
       " ('era5', 'mpi_esm_mr'),\n",
       " ('era5', 'access1_0'),\n",
       " ('era5', 'mpi_esm_lr'),\n",
       " ('era5', 'era5')]"
      ]
     },
     "execution_count": 56,
     "metadata": {},
     "output_type": "execute_result"
    }
   ],
   "source": [
    "[pair for pair in itertools.product(model_ids, model_ids)]"
   ]
  },
  {
   "cell_type": "code",
   "execution_count": 90,
   "id": "previous-questionnaire",
   "metadata": {},
   "outputs": [
    {
     "data": {
      "text/plain": [
       "[('inmcm4', 'inmcm4'),\n",
       " ('inmcm4', 'bnu_esm'),\n",
       " ('inmcm4', 'ipsl_cm5b_lr'),\n",
       " ('inmcm4', 'mpi_esm_mr'),\n",
       " ('inmcm4', 'access1_0'),\n",
       " ('inmcm4', 'mpi_esm_lr'),\n",
       " ('inmcm4', 'era5'),\n",
       " ('bnu_esm', 'inmcm4'),\n",
       " ('bnu_esm', 'bnu_esm'),\n",
       " ('bnu_esm', 'ipsl_cm5b_lr'),\n",
       " ('bnu_esm', 'mpi_esm_mr'),\n",
       " ('bnu_esm', 'access1_0'),\n",
       " ('bnu_esm', 'mpi_esm_lr'),\n",
       " ('bnu_esm', 'era5'),\n",
       " ('ipsl_cm5b_lr', 'inmcm4'),\n",
       " ('ipsl_cm5b_lr', 'bnu_esm'),\n",
       " ('ipsl_cm5b_lr', 'ipsl_cm5b_lr'),\n",
       " ('ipsl_cm5b_lr', 'mpi_esm_mr'),\n",
       " ('ipsl_cm5b_lr', 'access1_0'),\n",
       " ('ipsl_cm5b_lr', 'mpi_esm_lr'),\n",
       " ('ipsl_cm5b_lr', 'era5'),\n",
       " ('mpi_esm_mr', 'inmcm4'),\n",
       " ('mpi_esm_mr', 'bnu_esm'),\n",
       " ('mpi_esm_mr', 'ipsl_cm5b_lr'),\n",
       " ('mpi_esm_mr', 'mpi_esm_mr'),\n",
       " ('mpi_esm_mr', 'access1_0'),\n",
       " ('mpi_esm_mr', 'mpi_esm_lr'),\n",
       " ('mpi_esm_mr', 'era5'),\n",
       " ('access1_0', 'inmcm4'),\n",
       " ('access1_0', 'bnu_esm'),\n",
       " ('access1_0', 'ipsl_cm5b_lr'),\n",
       " ('access1_0', 'mpi_esm_mr'),\n",
       " ('access1_0', 'access1_0'),\n",
       " ('access1_0', 'mpi_esm_lr'),\n",
       " ('access1_0', 'era5'),\n",
       " ('mpi_esm_lr', 'inmcm4'),\n",
       " ('mpi_esm_lr', 'bnu_esm'),\n",
       " ('mpi_esm_lr', 'ipsl_cm5b_lr'),\n",
       " ('mpi_esm_lr', 'mpi_esm_mr'),\n",
       " ('mpi_esm_lr', 'access1_0'),\n",
       " ('mpi_esm_lr', 'mpi_esm_lr'),\n",
       " ('mpi_esm_lr', 'era5'),\n",
       " ('era5', 'inmcm4'),\n",
       " ('era5', 'bnu_esm'),\n",
       " ('era5', 'ipsl_cm5b_lr'),\n",
       " ('era5', 'mpi_esm_mr'),\n",
       " ('era5', 'access1_0'),\n",
       " ('era5', 'mpi_esm_lr'),\n",
       " ('era5', 'era5')]"
      ]
     },
     "execution_count": 90,
     "metadata": {},
     "output_type": "execute_result"
    }
   ],
   "source": [
    "import itertools\n",
    "all_pairs = [pair for pair in itertools.product(model_ids, model_ids)]\n",
    "inv_pairs = map(lambda x: tuple(reversed(x)), all_pairs)\n",
    "\n",
    "all_pairs"
   ]
  },
  {
   "cell_type": "code",
   "execution_count": 73,
   "id": "distinguished-procurement",
   "metadata": {},
   "outputs": [
    {
     "data": {
      "text/plain": [
       "(49, 21)"
      ]
     },
     "execution_count": 73,
     "metadata": {},
     "output_type": "execute_result"
    }
   ],
   "source": [
    "len(all_pairs), len(sym_pairs)"
   ]
  },
  {
   "cell_type": "code",
   "execution_count": 53,
   "id": "exotic-lying",
   "metadata": {},
   "outputs": [
    {
     "data": {
      "text/plain": [
       "False"
      ]
     },
     "execution_count": 53,
     "metadata": {},
     "output_type": "execute_result"
    }
   ],
   "source": [
    "('era5', 'inmcm4') != tuple(reversed(('inmcm4', 'era5')))"
   ]
  },
  {
   "cell_type": "code",
   "execution_count": 52,
   "id": "sticky-season",
   "metadata": {},
   "outputs": [
    {
     "data": {
      "text/plain": [
       "<reversed at 0x7f76a07da550>"
      ]
     },
     "execution_count": 52,
     "metadata": {},
     "output_type": "execute_result"
    }
   ],
   "source": [
    "reversed(('inmcm4', 'era5'))"
   ]
  },
  {
   "cell_type": "code",
   "execution_count": null,
   "id": "impossible-yesterday",
   "metadata": {},
   "outputs": [],
   "source": []
  }
 ],
 "metadata": {
  "kernelspec": {
   "display_name": "Python [conda env:.conda-isp_data]",
   "language": "python",
   "name": "conda-env-.conda-isp_data-py"
  },
  "language_info": {
   "codemirror_mode": {
    "name": "ipython",
    "version": 3
   },
   "file_extension": ".py",
   "mimetype": "text/x-python",
   "name": "python",
   "nbconvert_exporter": "python",
   "pygments_lexer": "ipython3",
   "version": "3.9.2"
  }
 },
 "nbformat": 4,
 "nbformat_minor": 5
}
